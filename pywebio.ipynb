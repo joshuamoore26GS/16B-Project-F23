{
 "cells": [
  {
   "cell_type": "code",
   "execution_count": 1,
   "id": "449aa765-dffe-41d0-86a2-68700b59fcab",
   "metadata": {
    "tags": []
   },
   "outputs": [
    {
     "ename": "NameError",
     "evalue": "name 'conn' is not defined",
     "output_type": "error",
     "traceback": [
      "\u001b[0;31m---------------------------------------------------------------------------\u001b[0m",
      "\u001b[0;31mNameError\u001b[0m                                 Traceback (most recent call last)",
      "Cell \u001b[0;32mIn[1], line 37\u001b[0m\n",
      "Cell \u001b[0;32mIn[1], line 29\u001b[0m, in \u001b[0;36mweb\u001b[0;34m()\u001b[0m\n",
      "Cell \u001b[0;32mIn[1], line 28\u001b[0m, in \u001b[0;36mquery_schools_database\u001b[0;34m(state)\u001b[0m\n",
      "\u001b[0;31mNameError\u001b[0m: name 'conn' is not defined"
     ]
    }
   ],
   "source": [
    "from pywebio.input import input, select\n",
    "from pywebio.output import put_text\n",
    "import pandas as pd\n",
    "\n",
    "\n",
    "def web():\n",
    "    state_options = ['Alabama', 'Alaska', 'Arizona']  # Your state options here\n",
    "\n",
    "    state = select(\"Select a state:\", options=state_options)\n",
    "    \n",
    "    if state == 'Alabama':\n",
    "        put_text(\"Alabama's Stats\")\n",
    "        \n",
    "        def query_schools_database(state):\n",
    "            \"\"\"\n",
    "            query_schools_database uses SQL to read through a database containing relevant school district location.\n",
    "\n",
    "            :state: the name of the state to be investigated\n",
    "            \"\"\"\n",
    "\n",
    "            cmd = \\\n",
    "            f\"\"\"\n",
    "            SELECT S.statename, S.lea_name \"Name\", S.mstreet1, S.mzip, S.mcity \"city\"\n",
    "            FROM schools S\n",
    "            WHERE S.statename = \"{state}\"\n",
    "            \"\"\"\n",
    "\n",
    "            return pd.read_sql_query(cmd, conn)\n",
    "        result = query_schools_database(state)\n",
    "        put_text(result)\n",
    "        \n",
    "        return result\n",
    "    \n",
    " # Display the query result\n",
    "    \n",
    "if __name__ == '__main__':\n",
    "    web()"
   ]
  },
  {
   "cell_type": "code",
   "execution_count": null,
   "id": "4d2d4bf5-a6e9-468e-9f4d-c97bb413cd74",
   "metadata": {},
   "outputs": [],
   "source": []
  },
  {
   "cell_type": "code",
   "execution_count": null,
   "id": "61abadde-6679-49c4-a0f5-47e47193f477",
   "metadata": {},
   "outputs": [],
   "source": []
  }
 ],
 "metadata": {
  "kernelspec": {
   "display_name": "Python [conda env:PIC16B-3] *",
   "language": "python",
   "name": "conda-env-PIC16B-3-py"
  },
  "language_info": {
   "codemirror_mode": {
    "name": "ipython",
    "version": 3
   },
   "file_extension": ".py",
   "mimetype": "text/x-python",
   "name": "python",
   "nbconvert_exporter": "python",
   "pygments_lexer": "ipython3",
   "version": "3.11.6"
  }
 },
 "nbformat": 4,
 "nbformat_minor": 5
}
