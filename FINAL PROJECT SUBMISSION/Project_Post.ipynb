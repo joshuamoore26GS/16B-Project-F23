{
 "cells": [
  {
   "cell_type": "markdown",
   "id": "390ae7d3-36c2-4062-85df-5cc0c1c1afa0",
   "metadata": {},
   "source": [
    "# Creating a Website to Evaluate the Effect of CRT on School Districts"
   ]
  },
  {
   "cell_type": "markdown",
   "id": "7118c09a-9f63-4bc6-976d-f81503139316",
   "metadata": {},
   "source": [
    "#### By Joshua Moore and Madison Newberry"
   ]
  },
  {
   "cell_type": "markdown",
   "id": "7cebd65d-3260-404a-a033-b66e7b9716fb",
   "metadata": {},
   "source": [
    "## The purpose of this project is to try to determine and illustrate a possible correlation between the inclusion, or exclusion, of Critical Race Theory (CRT) curriculum within K-12 schools and quality of education provided. \n",
    "### In order to accomplish this, we will have to perform a significant data acquisition task in order to determine whether or not CRT curriculum being taught in schools correlates with the quality of the education that the children are receiving. \n",
    "##### (Credit to Christine Ma, who collaborated with Joshua Moore to come up with this idea, but unfortunately dropped the class before being able to do the project."
   ]
  },
  {
   "cell_type": "markdown",
   "id": "20b05236-ff23-4f50-b1a6-b2921d635f68",
   "metadata": {},
   "source": [
    "#### In order to create our desired end-product, we will be utilizing Flask, which is a micro web framework written in Python that will allow us to publish our webapp."
   ]
  },
  {
   "cell_type": "markdown",
   "id": "50679e35-4a3b-4e70-87d1-c22e97b19ae2",
   "metadata": {},
   "source": [
    "#### Our datasets were taken from a variety of locations. Our .csv file containing all of the US school districts (as well as their location in latitude and longitude) was taken from https://nces.ed.gov/programs/edge/Geographic/SchoolLocations\n",
    "\n",
    "#### Our data for this project on a state level consisted of only two states: Alabama and Alaska, although the framework for the other 48 states is present. Alabama has banned CRT, Alaska has not.\n",
    "\n",
    "#### The data from Alabama came from here: https://www.alabamaachieves.org/reports-data/school-data/\n",
    "#### and the data from Alaska came from here: https://education.alaska.gov/assessments/results\n",
    "\n",
    "#### So, let's get to it. Our first step involves defining some functions in two separate files, myProjectDataAnalysisFunctions and myProjectFlaskFunctions."
   ]
  },
  {
   "cell_type": "markdown",
   "id": "1991712e-6dd9-4442-bba8-6cb03099c8c2",
   "metadata": {},
   "source": [
    "#### The code from myProjectDataAnalysisFunctions is as follows:"
   ]
  },
  {
   "cell_type": "code",
   "execution_count": 1,
   "id": "c38fdfee-7538-41af-988d-a78a7c1df41a",
   "metadata": {
    "tags": []
   },
   "outputs": [],
   "source": [
    "# -*- coding: utf-8 -*-\n",
    "\"\"\"\n",
    "PIC16B 23F Final Project by Joshua Moore and Madison Newberry\n",
    "\"\"\"\n",
    "\n",
    "import plotly.io as pio\n",
    "pio.renderers.default=\"iframe\"\n",
    "import pandas as pd\n",
    "import sqlite3\n",
    "from plotly import express as px\n",
    "\n",
    "conn = sqlite3.connect(\"schools.db\", check_same_thread=False)\n",
    "\n",
    "\n",
    "def query_schools_database(state):\n",
    "    \"\"\"\n",
    "    query_schools_database uses SQL to read through a database containing relevant school district location.\n",
    "​    the state name must be the 2 letter code for the state.\n",
    "    :state: the name of the state to be investigated\n",
    "    \"\"\"\n",
    "    \n",
    "    cmd = \\\n",
    "    f\"\"\"\n",
    "    SELECT S.state, S.name, S.lat, S.lon\n",
    "    FROM schools S\n",
    "    WHERE S.state = \"{state}\"\n",
    "    \"\"\"\n",
    "    \n",
    "    return pd.read_sql_query(cmd, conn)\n",
    "\n",
    "def generate_state_districts_db():\n",
    "    \"\"\"\n",
    "    generates a db to be read through the query_schools_database and create a df for a specific state.\n",
    "    \"\"\"\n",
    "    \n",
    "    conn = sqlite3.connect(\"schools.db\") # this creates a database called schools.db.\n",
    "    df_iter = pd.read_csv(\"All_US_Schools.csv\", chunksize = 1000) # reads in our dataframe in digestible chunks of 1000 rows at a time\n",
    "    if not conn.execute(\"SELECT name FROM sqlite_master WHERE type='table' AND name='schools';\").fetchone(): \n",
    "        df_iter = pd.read_csv(\"All_US_Schools.csv\", chunksize=1000)\n",
    "        for df_chunk in df_iter:\n",
    "            df_chunk.to_sql(\"schools\", conn, if_exists=\"append\", index=False)\n",
    "    conn.close() # closes the connection to the database\n",
    "    \n",
    "def generate_state_districts_df(state):\n",
    "    \"\"\"\n",
    "    generates a df using the query_schools_database function, connects and closes connection to database\n",
    "    :state: the name of the state to be investigated\n",
    "    \"\"\"\n",
    "    conn = sqlite3.connect(\"schools.db\") # this connects to the schools.db database\n",
    "    df = query_schools_database(state) # this creates the df\n",
    "    conn.close() # closes the connection to the database\n",
    "    \n",
    "    return df\n",
    "\n",
    "def alabama_state_processing():\n",
    "    \"\"\"\n",
    "    reads in a .csv file downloaded from https://www.alabamaachieves.org/reports-data/school-data/\n",
    "    this file is renamed to \"alabama_prof.csv\" before this function is called\n",
    "    results in a .csv file being downloaded to the computer\n",
    "    \"\"\"\n",
    "    prof_df = pd.read_csv(\"alabama_prof.csv\", header=None) # reads in the csv\n",
    "    prof_df.columns = prof_df.iloc[4] # sets the 4th row as the column headers\n",
    "    prof_df = prof_df[prof_df[\"Grade\"] == \"ALL\"] # isolates only results including all student grade levels\n",
    "    prof_df = prof_df[prof_df[\"Test Type\"] == \"Regular Assessment\"] # only includes results for regular assessments, not specialized ones\n",
    "    prof_df[\"ALL Category Only ***% Proficient\"] = pd.to_numeric(prof_df[\"ALL Category Only ***% Proficient\"], errors=\"coerce\") # sets all the values to numbers in the results column\n",
    "    average_scores = prof_df.groupby(\"System Name\")[\"ALL Category Only ***% Proficient\"].mean().reset_index() # takes the average for each district by grouping together and ungrouping\n",
    "    average_scores = average_scores.rename(columns={\"System Name\" : \"NAME\", \"ALL Category Only ***% Proficient\": \"Average Assessment Proficiency\"}) # renames to a universal name for the website\n",
    "    average_scores.to_csv(\"alabama_df.csv\", index=False) # downloads the csv\n",
    "    \n",
    "def alaska_state_processing():\n",
    "    \"\"\"\n",
    "    reads in a .csv file downloaded from https://education.alaska.gov/assessments/results/results2022\n",
    "    this file is renamed to \"AlaskaResults.csv\" before this function is called\n",
    "    results in a .csv file being downloaded to the computer\n",
    "    \"\"\"\n",
    "    assess_df = pd.read_csv(\"AlaskaResults.csv\") # reads in the csv\n",
    "    assess_df.columns = assess_df.iloc[2] # sets the 2nd row as the column headers\n",
    "    assess_df = assess_df[assess_df[\"Population\"] == \"All\"] # isolates only results including all students, not any separated ones\n",
    "    assess_df = assess_df[assess_df[\"Grade\"] == \"All\"] # isolates only results including all student grade levels\n",
    "    assess_df[\"District Name\"] = assess_df[\"District Name\"] + \" School District\" # adds the words \"School District\" to the district name\n",
    "    # the following 4 lines all replace non-numeric values in the results column to allow them to be turned into numbers\n",
    "    assess_df[\"At Target/ Advanced Percentage\"] = assess_df[\"At Target/ Advanced Percentage\"].astype(str).str.replace(\"*\",\"0\")\n",
    "    assess_df[\"At Target/ Advanced Percentage\"] = assess_df[\"At Target/ Advanced Percentage\"].astype(str).str.replace(\"or more\",\"\")\n",
    "    assess_df[\"At Target/ Advanced Percentage\"] = assess_df[\"At Target/ Advanced Percentage\"].astype(str).str.replace(\"or fewer\",\"\")\n",
    "    assess_df[\"At Target/ Advanced Percentage\"] = assess_df[\"At Target/ Advanced Percentage\"].astype(str).str.replace(\"%\",\"\")\n",
    "    \n",
    "    assess_df[\"At Target/ Advanced Percentage\"] = assess_df[\"At Target/ Advanced Percentage\"].astype(float) # turns them into numbers\n",
    "    assess_df[\"At Target/ Advanced Percentage\"] = pd.to_numeric(assess_df[\"At Target/ Advanced Percentage\"], errors=\"coerce\") # then turns them into numerics for averaging\n",
    "    average_scores = assess_df.groupby(\"District Name\")[\"At Target/ Advanced Percentage\"].mean().reset_index() # takes the average\n",
    "    average_scores = average_scores.rename(columns={\"District Name\" : \"NAME\", \"At Target/ Advanced Percentage\": \"Average Assessment Proficiency\"}) # renames to a universal name for the website\n",
    "    average_scores.to_csv(\"alaska_df.csv\", index=False) # downloads the csv\n",
    "    \n",
    "    \n",
    "    "
   ]
  },
  {
   "cell_type": "markdown",
   "id": "e25effc6-0456-4263-9575-4a2a61dc58de",
   "metadata": {},
   "source": [
    "#### There's a lot going on here. I'll go through each function.\n",
    "\n",
    "#### The first function, `query_schools_database`, performs a query of an SQL database called `schools.db`. It produces a dataframe containing information on the schools of an input state. The state must be input as its two-letter codon (i.e. Alabama should be input as AL).\n",
    "\n",
    "#### The second function, `generate_state_districts_db`, establishes a connection to the `schools.db` database. It does it in such a way that if replicate information is attempted to be input into the database, it is denied, so that the database doesn't fill up with the same information over and over.\n",
    "\n",
    "#### The third function, `generate_state_districts_df`, establishes a dataframe for a given state by running the SQL query function. It also opens and closes a connection to the schools.db.\n",
    "\n",
    "#### The fourth function, `alabama_state_processing`, is a function that shows how the alabama school district data was processed. Since each .csv has a different way of organizing their information, each instance of data processing requires a different function.\n",
    "\n",
    "#### The fifth function, `alaska_state_processing`, is very similar to the alabama function."
   ]
  },
  {
   "cell_type": "markdown",
   "id": "218cfa37-b518-4a62-b74a-8765bd323690",
   "metadata": {},
   "source": [
    "#### Now, myProjectFlaskFunctions:"
   ]
  },
  {
   "cell_type": "code",
   "execution_count": 2,
   "id": "1df8c5be-0c7c-4359-aba2-b68b814f6984",
   "metadata": {
    "tags": []
   },
   "outputs": [],
   "source": [
    "from flask import Flask, render_template, request, session\n",
    "import pandas as pd\n",
    "import sqlite3\n",
    "import plotly.express as px\n",
    "\n",
    "\n",
    "def state_crt_condition(state):\n",
    "    \"\"\"\n",
    "    retrieve the status of CRT in a given state\n",
    "\n",
    "    :state: the name of the state to be investigated\n",
    "    \"\"\"\n",
    "    state = state.lower() # removes any casing issues\n",
    "    state_crt = { # contains all the state information\n",
    "        \"alabama\": \"No CRT\",\n",
    "        \"alaska\": \"CRT\",\n",
    "        \"arizona\": \"CRT\",\n",
    "        \"arkansas\": \"No CRT\",\n",
    "        \"california\": \"CRT\",\n",
    "        \"colorado\": \"CRT\",\n",
    "        \"connecticut\": \"CRT\",\n",
    "        \"delaware\": \"CRT\",\n",
    "        \"florida\": \"No CRT\",\n",
    "        \"georgia\": \"No CRT\",\n",
    "        \"hawaii\": \"CRT\",\n",
    "        \"idaho\": \"No CRT\",\n",
    "        \"illinois\": \"CRT\",\n",
    "        \"indiana\": \"CRT\",\n",
    "        \"iowa\": \"No CRT\",\n",
    "        \"kansas\": \"CRT\",\n",
    "        \"kentucky\": \"No CRT\",\n",
    "        \"louisiana\": \"CRT\",\n",
    "        \"maine\": \"CRT\",\n",
    "        \"maryland\": \"CRT\",\n",
    "        \"massachusetts\": \"CRT\",\n",
    "        \"michigan\": \"CRT\",\n",
    "        \"minnesota\": \"CRT\",\n",
    "        \"mississippi\": \"No CRT\",\n",
    "        \"missouri\": \"CRT\",\n",
    "        \"montana\": \"No CRT\",\n",
    "        \"nebraska\": \"CRT\",\n",
    "        \"nevada\": \"CRT\",\n",
    "        \"new hampshire\": \"No CRT\",\n",
    "        \"new jersey\": \"CRT\",\n",
    "        \"new mexico\": \"CRT\",\n",
    "        \"new york\": \"CRT\",\n",
    "        \"north carolina\": \"CRT\",\n",
    "        \"north dakota\": \"No CRT\",\n",
    "        \"ohio\": \"CRT\",\n",
    "        \"oklahoma\": \"No CRT\",\n",
    "        \"oregon\": \"CRT\",\n",
    "        \"pennsylvania\": \"CRT\",\n",
    "        \"rhode island\": \"CRT\",\n",
    "        \"south carolina\": \"No CRT\",\n",
    "        \"south dakota\": \"No CRT\",\n",
    "        \"tennessee\": \"No CRT\",\n",
    "        \"texas\": \"No CRT\",\n",
    "        \"utah\": \"No CRT\",\n",
    "        \"vermont\": \"CRT\",\n",
    "        \"virginia\": \"No CRT\",\n",
    "        \"washington\": \"CRT\",\n",
    "        \"west virginia\": \"CRT\",\n",
    "        \"wisconsin\": \"CRT\",\n",
    "        \"wyoming\": \"CRT\",\n",
    "    }\n",
    "    return state_crt.get(state)\n",
    "    \n",
    "def state_code_conversion(state):\n",
    "    \"\"\"\n",
    "    convert the state full name into a 2 letter code\n",
    "\n",
    "    :state: the name of the state to be investigated\n",
    "    \"\"\"\n",
    "    state = state.lower() # removes any casing issues\n",
    "    state_codon = { # contains all the state information\n",
    "        \"alabama\": \"AL\",\n",
    "        \"alaska\": \"AK\",\n",
    "        \"arizona\": \"AZ\",\n",
    "        \"arkansas\": \"AR\",\n",
    "        \"california\": \"CA\",\n",
    "        \"colorado\": \"CO\",\n",
    "        \"connecticut\": \"CT\",\n",
    "        \"delaware\": \"DE\",\n",
    "        \"florida\": \"FL\",\n",
    "        \"georgia\": \"GA\",\n",
    "        \"hawaii\": \"HI\",\n",
    "        \"idaho\": \"ID\",\n",
    "        \"illinois\": \"IL\",\n",
    "        \"indiana\": \"IN\",\n",
    "        \"iowa\": \"IA\",\n",
    "        \"kansas\": \"KS\",\n",
    "        \"kentucky\": \"KY\",\n",
    "        \"louisiana\": \"LA\",\n",
    "        \"maine\": \"ME\",\n",
    "        \"maryland\": \"MD\",\n",
    "        \"massachusetts\": \"MA\",\n",
    "        \"michigan\": \"MI\",\n",
    "        \"minnesota\": \"MN\",\n",
    "        \"mississippi\": \"MS\",\n",
    "        \"missouri\": \"MO\",\n",
    "        \"montana\": \"MT\",\n",
    "        \"nebraska\": \"NE\",\n",
    "        \"nevada\": \"NV\",\n",
    "        \"new hampshire\": \"NH\",\n",
    "        \"new jersey\": \"NJ\",\n",
    "        \"new mexico\": \"NM\",\n",
    "        \"new york\": \"NY\",\n",
    "        \"north carolina\": \"NC\",\n",
    "        \"north dakota\": \"ND\",\n",
    "        \"ohio\": \"OH\",\n",
    "        \"oklahoma\": \"OK\",\n",
    "        \"oregon\": \"OR\",\n",
    "        \"pennsylvania\": \"PA\",\n",
    "        \"rhode island\": \"RI\",\n",
    "        \"south carolina\": \"SC\",\n",
    "        \"south dakota\": \"SD\",\n",
    "        \"tennessee\": \"TN\",\n",
    "        \"texas\": \"TX\",\n",
    "        \"utah\": \"UT\",\n",
    "        \"vermont\": \"VT\",\n",
    "        \"virginia\": \"VA\",\n",
    "        \"washington\": \"WA\",\n",
    "        \"west virginia\": \"WV\",\n",
    "        \"wisconsin\": \"WI\",\n",
    "        \"wyoming\": \"WY\",\n",
    "    }\n",
    "    return state_codon.get(state)"
   ]
  },
  {
   "cell_type": "markdown",
   "id": "c2d61806-d638-41eb-a0a6-7019e40584d8",
   "metadata": {},
   "source": [
    "#### This one looks like it has a lot going on, but it is just two dictionaries essentially.\n",
    "\n",
    "#### The first function, `state_crt_condition`, takes in a state name and outputs whether or not that state has banned CRT (or, more specifically, if it allows it).\n",
    "\n",
    "#### The second function, `state_code_conversion`, takes in a state name and outputs its 2 letter codon.\n",
    "\n",
    "#### Both of these are essential for processing data on our Flask site, which is where we will host the data and create our visualizations."
   ]
  },
  {
   "cell_type": "markdown",
   "id": "721b8158-a033-45c4-9d9a-6818d23801e9",
   "metadata": {},
   "source": [
    "#### Next, we'll talk about our Flask site, the bulk of our project."
   ]
  },
  {
   "cell_type": "markdown",
   "id": "57adb8f4-42b2-407e-9168-5dbd3a6af702",
   "metadata": {},
   "source": [
    "#### The Flask site is hosted through a file called app.py, and it looks like this:"
   ]
  },
  {
   "cell_type": "code",
   "execution_count": 5,
   "id": "79267790-b236-459c-a23c-ff5fade090d0",
   "metadata": {
    "tags": []
   },
   "outputs": [],
   "source": [
    "from myProject import *\n",
    "from flask import Flask, render_template, request, session\n",
    "import pandas as pd\n",
    "import sqlite3\n",
    "import plotly.express as px\n",
    "import plotly.io as pio\n",
    "pio.renderers.default=\"iframe\"\n",
    "\n",
    "\n",
    "app = Flask(__name__) #creates Flask app\n",
    "app.secret_key = \"PIC16B\" #sets secret key\n",
    "\n",
    "myProjectDataAnalysisFunctions.generate_state_districts_db() # generates the database\n",
    "\n",
    "@app.route('/')\n",
    "def index(): # renders the initial page\n",
    "    return render_template('index.html', PageTitle=\"School Data\")\n",
    "\n",
    "@app.route('/process', methods=['POST'])\n",
    "def process(): # renders the page based on what state is chosen on the first page\n",
    "    selected_state = request.form['state'] # retrieves the chosen state\n",
    "    state_name = selected_state # sets a variable equal to that state\n",
    "    session[\"state_name\"] = state_name # adds it to the session\n",
    "    selected_state = myProjectFlaskFunctions.state_code_conversion(selected_state) # converts the state name to its 2 letter codon\n",
    "    session[\"selected_state\"] = selected_state # adds the codon to the session\n",
    "    state_crt = myProjectFlaskFunctions.state_crt_condition(state_name) # retrieves the CRT status for the state\n",
    "    session[\"state_crt\"] = state_crt # adds the CRT status to the session\n",
    "    schools_data = myProjectDataAnalysisFunctions.generate_state_districts_df(selected_state) # creates a dataframe for the given state from the database\n",
    "    prof = pd.read_csv(f\"{state_name}_df.csv\") # reads in the already-formatted state database for the given state\n",
    "    final_df = pd.merge(schools_data, prof, on='NAME', how='left') # merges the dfs\n",
    "\n",
    "    # creates a plotly figure\n",
    "    fig = px.scatter_mapbox(final_df, lat='LAT', lon='LON', zoom=5, mapbox_style='carto-positron', hover_name='NAME', hover_data=['Average Assessment Proficiency'], color='Average Assessment Proficiency', color_continuous_midpoint=50)\n",
    "\n",
    "    # converts the plotly figure to HTML for display\n",
    "    plotly_html = fig.to_html(full_html=False)\n",
    "\n",
    "    # renders the HTML template using the variables and dfs created\n",
    "    return render_template('result.html', schools_data=final_df, plotly_html=plotly_html, state_name=state_name, state_crt=state_crt)\n",
    "\n",
    "@app.route('/district/<district_name>')\n",
    "def district_page(district_name): # renders a page when someone clicks on a district on the second page\n",
    "    state_name = session.get(\"state_name\") # retrieves the state name from the session\n",
    "    selected_state = session.get(\"selected_state\") # retrieves the codon from the session\n",
    "    state_crt = session.get(\"state_crt\") # retrieves the CRT status\n",
    "    schools_data = myProjectDataAnalysisFunctions.query_schools_database(selected_state) # generates the same df as in the previous page\n",
    "    prof = pd.read_csv(f\"{state_name}_df.csv\") # generates the same df as the previous page\n",
    "    final_df = pd.merge(schools_data, prof, on='NAME', how='left') # merges them as in the previous page\n",
    "    district_df = final_df.loc[final_df[\"NAME\"] == district_name]  # extracts just the row from the district chosen\n",
    "    \n",
    "    # creates a plotly figure\n",
    "    fig = px.scatter_mapbox(district_df, lat='LAT', lon='LON', zoom=5, mapbox_style='carto-positron', hover_name='NAME', hover_data=[\"Average Assessment Proficiency\"], color='Average Assessment Proficiency', color_continuous_midpoint=50)\n",
    "\n",
    "    # convert the plotly figure to HTML for display\n",
    "    plotly_html = fig.to_html(full_html=False)\n",
    "    \n",
    "    # renders the HTML template using the variables and dfs created\n",
    "    return render_template('district_page.html', schools_data=district_df, plotly_html=plotly_html, state_name=state_name, state_crt=state_crt)\n",
    "\n",
    "if __name__ == '__main__':\n",
    "    app.run(port=5000)\n"
   ]
  },
  {
   "cell_type": "markdown",
   "id": "d25984dd-3d13-4b64-8802-dc2c47c9840a",
   "metadata": {},
   "source": [
    "#### There's a lot going on, so we'll break it down step-by-step:"
   ]
  },
  {
   "cell_type": "code",
   "execution_count": 6,
   "id": "ce3231be-9b33-4492-8f44-dc2d8c238a4d",
   "metadata": {
    "tags": []
   },
   "outputs": [],
   "source": [
    "from myProject import *\n",
    "from flask import Flask, render_template, request, session\n",
    "import pandas as pd\n",
    "import sqlite3\n",
    "import plotly.express as px\n",
    "import plotly.io as pio\n",
    "pio.renderers.default=\"iframe\"\n",
    "\n",
    "\n",
    "app = Flask(__name__) #creates Flask app\n",
    "app.secret_key = \"PIC16B\" #sets secret key\n",
    "\n",
    "myProjectDataAnalysisFunctions.generate_state_districts_db() # generates the database"
   ]
  },
  {
   "cell_type": "markdown",
   "id": "bf74c49b-6307-4301-b7af-f6e71fcfb07a",
   "metadata": {},
   "source": [
    "#### This first block of code imports a few things: first, it imports the two other .py files and their respective functions. Then, it imports flask, pandas, sqlite3 (SQL), and plotly, which all are going to be used for their pretty standard functions.\n",
    "\n",
    "#### Then, we initialize our Flask app, give it a session key (which will be important later), and initialize our database using the function described earlier."
   ]
  },
  {
   "cell_type": "code",
   "execution_count": 7,
   "id": "6c58eba3-92af-4399-bdcf-982ea9b9e1c2",
   "metadata": {
    "tags": []
   },
   "outputs": [],
   "source": [
    "@app.route('/')\n",
    "def index(): # renders the initial page\n",
    "    return render_template('index.html', PageTitle=\"School Data\")\n",
    "\n",
    "@app.route('/process', methods=['POST'])\n",
    "def process(): # renders the page based on what state is chosen on the first page\n",
    "    selected_state = request.form['state'] # retrieves the chosen state\n",
    "    state_name = selected_state # sets a variable equal to that state\n",
    "    session[\"state_name\"] = state_name # adds it to the session\n",
    "    selected_state = myProjectFlaskFunctions.state_code_conversion(selected_state) # converts the state name to its 2 letter codon\n",
    "    session[\"selected_state\"] = selected_state # adds the codon to the session\n",
    "    state_crt = myProjectFlaskFunctions.state_crt_condition(state_name) # retrieves the CRT status for the state\n",
    "    session[\"state_crt\"] = state_crt # adds the CRT status to the session\n",
    "    schools_data = myProjectDataAnalysisFunctions.generate_state_districts_df(selected_state) # creates a dataframe for the given state from the database\n",
    "    prof = pd.read_csv(f\"{state_name}_df.csv\") # reads in the already-formatted state database for the given state\n",
    "    final_df = pd.merge(schools_data, prof, on='NAME', how='left') # merges the dfs\n",
    "\n",
    "    # creates a plotly figure\n",
    "    fig = px.scatter_mapbox(final_df, lat='LAT', lon='LON', zoom=5, mapbox_style='carto-positron', hover_name='NAME', hover_data=['Average Assessment Proficiency'], color='Average Assessment Proficiency', color_continuous_midpoint=50)\n",
    "\n",
    "    # converts the plotly figure to HTML for display\n",
    "    plotly_html = fig.to_html(full_html=False)\n",
    "\n",
    "    # renders the HTML template using the variables and dfs created\n",
    "    return render_template('result.html', schools_data=final_df, plotly_html=plotly_html, state_name=state_name, state_crt=state_crt)"
   ]
  },
  {
   "cell_type": "markdown",
   "id": "f5baac71-b430-4c8a-8586-ff1b1b4d97a7",
   "metadata": {},
   "source": [
    "#### This section initializes two things: our index page (which is the first page on the Flask site, and the first one you see), and codes the process for our second page, the process page."
   ]
  },
  {
   "cell_type": "markdown",
   "id": "5541dfcc-1737-4263-8a48-69e1e4f15886",
   "metadata": {},
   "source": [
    "#### Let's talk about the index page. It looks very simple, but it is written from an HTML file that is actually a little complicated. It looks like this:"
   ]
  },
  {
   "cell_type": "markdown",
   "id": "c8977313-efb5-4a7a-abd7-c768df118681",
   "metadata": {},
   "source": [
    "<!DOCTYPE html>\n",
    "<html>\n",
    "<head>\n",
    "    <title>Select State</title>\n",
    "</head>\n",
    "<body>\n",
    "    <form action=\"/process\" method=\"post\">\n",
    "        <label for=\"state\">Select State:</label>\n",
    "        <select id=\"state\" name=\"state\">\n",
    "            <option value=\"Alabama\">Alabama</option>\n",
    "            <option value=\"Alaska\">Alaska</option>\n",
    "            <option value=\"Arizona\"> Arizona</option>\n",
    "            <option value=\"Arkansas\">Arkansas</option>\n",
    "            <option value=\"California\">California</option>\n",
    "            <option value=\"Colorado\">Colorado</option>\n",
    "            <option value=\"Connecticut\">Connecticut</option>\n",
    "            <option value=\"Delaware\">Delaware</option>\n",
    "            <option value=\"Florida\">Florida</option>\n",
    "            <option value=\"Georgia\">Georgia</option>\n",
    "            <option value=\"Hawaii\">Hawaii</option>\n",
    "            <option value=\"Idaho\">Idaho</option>\n",
    "            <option value=\"Illinois\">Illinois</option>\n",
    "            <option value=\"Indiana\">Indiana</option>\n",
    "            <option value=\"Iowa\">Iowa</option>\n",
    "            <option value=\"Kansas\">Kansas</option>\n",
    "            <option value=\"Kentucky\">Kentucky</option>\n",
    "            <option value=\"Louisiana\">Louisiana</option>\n",
    "            <option value=\"Maine\">Maine</option>\n",
    "            <option value=\"Maryland\">Maryland</option>\n",
    "            <option value=\"Massachusetts\">Massachusetts</option>\n",
    "            <option value=\"Michigan\">Michigan</option>\n",
    "            <option value=\"Minnesota\">Minnesota</option>\n",
    "            <option value=\"Mississippi\">Mississippi</option>\n",
    "            <option value=\"Missouri\">Missouri</option>\n",
    "            <option value=\"Montana\">Montana</option>\n",
    "            <option value=\"Nebraska\">Nebraska</option>\n",
    "            <option value=\"Nevada\">Nevada</option>\n",
    "            <option value=\"New Hampshire\">New Hampshire</option>\n",
    "            <option value=\"New Jersey\">New Jersey</option>\n",
    "            <option value=\"New Mexico\">New Mexico</option>\n",
    "            <option value=\"New York\">New York</option>\n",
    "            <option value=\"North Carolina\">North Carolina</option>\n",
    "            <option value=\"North Dakota\">North Dakota</option>\n",
    "            <option value=\"Ohio\">Ohio</option>\n",
    "            <option value=\"Oklahoma\">Oklahoma</option>\n",
    "            <option value=\"Oregon\">Oregon</option>\n",
    "            <option value=\"Pennsylvania\">Pennsylvania</option>\n",
    "            <option value=\"Rhode Island\">Rhode Island</option>\n",
    "            <option value=\"South Carolina\">South Carolina</option>\n",
    "            <option value=\"South Dakota\">South Dakota</option>\n",
    "            <option value=\"Tennessee\">Tennessee</option>\n",
    "            <option value=\"Texas\">Texas</option>\n",
    "            <option value=\"Utah\">Utah</option>\n",
    "            <option value=\"Vermont\">Vermont</option>\n",
    "            <option value=\"Virginia\">Virginia</option>\n",
    "            <option value=\"Washington\">Washington</option>\n",
    "            <option value=\"West Virginia\">West Virginia</option>\n",
    "            <option value=\"Wisconsin\">Wisconsin</option>\n",
    "            <option value=\"Wyoming\">Wyoming</option>\n",
    "        </select>\n",
    "        <input type=\"submit\" value=\"Submit\">\n",
    "    </form>\n",
    "</body>\n",
    "</html>\n"
   ]
  },
  {
   "cell_type": "markdown",
   "id": "49d53319-56fa-4291-916f-895d85038004",
   "metadata": {},
   "source": [
    "#### It contains a prompt: select state. Then, it contains the information to encode a dropdown menu which includes all 50 states. Once you click a state, it is submitted to the site. This submission causes a secondary page to be created."
   ]
  },
  {
   "cell_type": "markdown",
   "id": "94232692-e1c7-4c8d-afc1-ee7d79232591",
   "metadata": {},
   "source": [
    "#### Now, let's talk about the process (or \"result\") page. It looks like this:"
   ]
  },
  {
   "cell_type": "markdown",
   "id": "d882d86b-3f2f-489b-8b67-1dbba030dd62",
   "metadata": {},
   "source": [
    "<!DOCTYPE html>\n",
    "<html>\n",
    "<head>\n",
    "    <title>District Data for {{ state_name }}</title>\n",
    "    <script src=\"https://cdn.plot.ly/plotly-latest.min.js\"></script>\n",
    "    <style>\n",
    "        body {\n",
    "            text-align: center;\n",
    "        }\n",
    "\n",
    "        h1 {\n",
    "            margin-top: 50px;\n",
    "        }\n",
    "    </style>\n",
    "</head>\n",
    "<body>\n",
    "    <h1>District Information for {{ state_name }} </h1>\n",
    "    <h2>CRT status: {{ state_crt }}\n",
    "    <div id=\"map\">{{ plotly_html|safe }}</div>\n",
    "    <table border=\"1\">\n",
    "        <thead>\n",
    "            <tr>\n",
    "                <th>District</th>\n",
    "                <th>Proficiency</th>\n",
    "            </tr>\n",
    "        </thead>\n",
    "        <tbody>\n",
    "            {% for index, row in schools_data.iterrows() %}\n",
    "            <tr>\n",
    "                <td><a href=\"{{ url_for('district_page', district_name=row['NAME']) }}\">{{ row['NAME'] }}</a></td>\n",
    "                <td>{{ row['Average Assessment Proficiency'] }}</td>\n",
    "            </tr>\n",
    "            {% endfor %}\n",
    "        </tbody>\n",
    "    </table>\n",
    "    \n",
    "    <p>For entries that say \"nan\", there is no data on their proficiency. Proficiency is measured based on the percent of students that reach a desired score on state testing. </p>\n",
    "\n",
    "    <div id=\"map\">{{ plotly_html|safe }}</div>\n",
    "</body>\n",
    "</html>"
   ]
  },
  {
   "cell_type": "markdown",
   "id": "4126629c-0317-40c1-9693-363847fd6a0e",
   "metadata": {},
   "source": [
    "#### This one is even more complicated than the other page. First, it has a title that has some formatting information to make it look nicer. Then, it has a header, which incorporates the variable `state_name` through some HTML-specific syntax. It also has a link to allow for the embedding of the plotly graph, which comes later. It has a subheading which displays whether or not the state has banned CRT or not.\n",
    "\n",
    "#### Then, it has a div for the plotly map, which is the cornerstone of the webpage. After that, it has a table, which has the school districts and their proficiency scores all labeled. The most interesting part of the page is in the table: each row has a reference for the url for each district's individual webpage. So, each district name in the table becomes a hyperlink because of the `<a href>` tag. Then there's a column for their scores.\n",
    "\n",
    "#### Then, there's a paragraph with a disclaimer in a `<p>` tag, and then finally the actual plotly graph, which displays at the top. All of these combine to make a webpage with an interactable plotly graph, a data table with hyperlinks, and a disclaimer paragraph at the bottom."
   ]
  },
  {
   "cell_type": "markdown",
   "id": "b9e2a16c-cbac-44f1-9b62-617bcf8e5117",
   "metadata": {},
   "source": [
    "#### The bits of the code that contain the definitions for all the data is below:"
   ]
  },
  {
   "cell_type": "code",
   "execution_count": 8,
   "id": "36fd4c57-88a1-4ddb-94c8-7120c7e268be",
   "metadata": {
    "tags": []
   },
   "outputs": [],
   "source": [
    "@app.route('/process', methods=['POST'])\n",
    "def process(): # renders the page based on what state is chosen on the first page\n",
    "    selected_state = request.form['state'] # retrieves the chosen state\n",
    "    state_name = selected_state # sets a variable equal to that state\n",
    "    session[\"state_name\"] = state_name # adds it to the session\n",
    "    selected_state = myProjectFlaskFunctions.state_code_conversion(selected_state) # converts the state name to its 2 letter codon\n",
    "    session[\"selected_state\"] = selected_state # adds the codon to the session\n",
    "    state_crt = myProjectFlaskFunctions.state_crt_condition(state_name) # retrieves the CRT status for the state\n",
    "    session[\"state_crt\"] = state_crt # adds the CRT status to the session\n",
    "    schools_data = myProjectDataAnalysisFunctions.generate_state_districts_df(selected_state) # creates a dataframe for the given state from the database\n",
    "    prof = pd.read_csv(f\"{state_name}_df.csv\") # reads in the already-formatted state database for the given state\n",
    "    final_df = pd.merge(schools_data, prof, on='NAME', how='left') # merges the dfs\n",
    "\n",
    "    # creates a plotly figure\n",
    "    fig = px.scatter_mapbox(final_df, lat='LAT', lon='LON', zoom=5, mapbox_style='carto-positron', hover_name='NAME', hover_data=['Average Assessment Proficiency'], color='Average Assessment Proficiency', color_continuous_midpoint=50)\n",
    "\n",
    "    # converts the plotly figure to HTML for display\n",
    "    plotly_html = fig.to_html(full_html=False)\n",
    "\n",
    "    # renders the HTML template using the variables and dfs created\n",
    "    return render_template('result.html', schools_data=final_df, plotly_html=plotly_html, state_name=state_name, state_crt=state_crt)"
   ]
  },
  {
   "cell_type": "markdown",
   "id": "1d4e39ed-9c73-45cf-ad70-382578fe7392",
   "metadata": {},
   "source": [
    "#### There's a lot going on here too. Starting with the `request.form` line, which takes the initial request from the index (that has the state of interest), and then going into a couple lines that define a session variable. This session variable is allowed because of the key from the beginning of the Flask app, and this session variable allows us to transfer variables across pages.\n",
    "\n",
    "#### Then, we run code to clean up our information (getting the 2 letter codon, getting the CRT condition, and generating a df for the state of interest), and organize it all into one final dataframe.\n",
    "\n",
    "#### Lastly, we generate a `scatter_mapbox`, which incorporates all the information we just generated, and we convert it to HTML so that it can be displayed on our next page. Then we render our template, passing all the necessary variables to it."
   ]
  },
  {
   "cell_type": "markdown",
   "id": "81d78c78-b90d-42b2-ae6a-50d75219ec91",
   "metadata": {},
   "source": [
    "#### Next, we look at our district pages:"
   ]
  },
  {
   "cell_type": "code",
   "execution_count": null,
   "id": "8b25f77f-f845-46ac-a645-4d8506817058",
   "metadata": {},
   "outputs": [],
   "source": [
    "@app.route('/district/<district_name>')\n",
    "def district_page(district_name): # renders a page when someone clicks on a district on the second page\n",
    "    state_name = session.get(\"state_name\") # retrieves the state name from the session\n",
    "    selected_state = session.get(\"selected_state\") # retrieves the codon from the session\n",
    "    state_crt = session.get(\"state_crt\") # retrieves the CRT status\n",
    "    schools_data = myProjectDataAnalysisFunctions.query_schools_database(selected_state) # generates the same df as in the previous page\n",
    "    prof = pd.read_csv(f\"{state_name}_df.csv\") # generates the same df as the previous page\n",
    "    final_df = pd.merge(schools_data, prof, on='NAME', how='left') # merges them as in the previous page\n",
    "    district_df = final_df.loc[final_df[\"NAME\"] == district_name]  # extracts just the row from the district chosen\n",
    "    \n",
    "    # creates a plotly figure\n",
    "    fig = px.scatter_mapbox(district_df, lat='LAT', lon='LON', zoom=5, mapbox_style='carto-positron', hover_name='NAME', hover_data=[\"Average Assessment Proficiency\"], color='Average Assessment Proficiency', color_continuous_midpoint=50)\n",
    "\n",
    "    # convert the plotly figure to HTML for display\n",
    "    plotly_html = fig.to_html(full_html=False)\n",
    "    \n",
    "    # renders the HTML template using the variables and dfs created\n",
    "    return render_template('district_page.html', schools_data=district_df, plotly_html=plotly_html, state_name=state_name, state_crt=state_crt)"
   ]
  },
  {
   "cell_type": "markdown",
   "id": "68f1735d-9ce2-4af4-a75b-a3a8f6d77c33",
   "metadata": {},
   "source": [
    "#### The main highlights of this block of code is that the variables from the process route are being carried over by the `session.get` lines of code. Then, the rest is pretty recognizable, except we convert the final_df to a district_df which only contains the district of interest. Then, we generate everything else in the same way, and create a very familiar looking page of just our district."
   ]
  },
  {
   "cell_type": "markdown",
   "id": "b2873e0c-0af1-4c03-874d-a0b88271ab25",
   "metadata": {},
   "source": [
    "#### We finish our code with one line:"
   ]
  },
  {
   "cell_type": "code",
   "execution_count": null,
   "id": "cb70b6aa-b390-41ba-9d49-4361b9765f86",
   "metadata": {},
   "outputs": [],
   "source": [
    "if __name__ == '__main__':\n",
    "    app.run(port=5000)"
   ]
  },
  {
   "cell_type": "markdown",
   "id": "cecd3cee-79e5-4879-8d1c-1177686ddc4f",
   "metadata": {},
   "source": [
    "#### This line of code just says that the connection should be on port 5000, and that the Flask site should be initialized when the code is run (on the index page)."
   ]
  },
  {
   "cell_type": "markdown",
   "id": "029e5a33-94ab-413c-abe7-813e577c8b20",
   "metadata": {},
   "source": [
    "#### This project is interesting in that is has a lot of local files. Namely, the files for each of the state data as well as the .csv containing all of the school districts are all local, and are processed locally. The website would be very messy, resource-intensive, and slow if all the data was hosted and processed through the site, so a lot of the work is done on the local side in order to ensure the website is as smooth and quick to use as possible."
   ]
  },
  {
   "cell_type": "markdown",
   "id": "01b9dd5d-dcd5-4430-be98-c664489dff71",
   "metadata": {},
   "source": [
    "#### Although the information for most of the states is not present, the initial project framework represents an overwhelming majority of the problem-solving required, and the state data acquisition is a slow, lengthy process that gets very repetitive. So, while this project is ultimately unfinished (from its original goal), a very solid framework has been constructed to put everything together!"
   ]
  },
  {
   "cell_type": "code",
   "execution_count": null,
   "id": "f6e36efe-d623-4951-8392-4b4b8fe1867c",
   "metadata": {},
   "outputs": [],
   "source": []
  }
 ],
 "metadata": {
  "kernelspec": {
   "display_name": "Python [conda env:PIC16B-2] *",
   "language": "python",
   "name": "conda-env-PIC16B-2-py"
  },
  "language_info": {
   "codemirror_mode": {
    "name": "ipython",
    "version": 3
   },
   "file_extension": ".py",
   "mimetype": "text/x-python",
   "name": "python",
   "nbconvert_exporter": "python",
   "pygments_lexer": "ipython3",
   "version": "3.11.5"
  }
 },
 "nbformat": 4,
 "nbformat_minor": 5
}
