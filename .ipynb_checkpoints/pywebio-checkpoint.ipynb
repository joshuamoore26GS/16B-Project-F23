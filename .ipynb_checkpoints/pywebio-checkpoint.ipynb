{
 "cells": [
  {
   "cell_type": "code",
   "execution_count": 9,
   "id": "0f182e6e-f408-4d3c-928a-4363a45fd279",
   "metadata": {
    "tags": []
   },
   "outputs": [],
   "source": [
    "conn.close()"
   ]
  },
  {
   "cell_type": "code",
   "execution_count": 1,
   "id": "7d6f5830-9a3b-4f11-bba6-525d2e13ef7c",
   "metadata": {
    "tags": []
   },
   "outputs": [],
   "source": [
    "import plotly.io as pio\n",
    "pio.renderers.default=\"iframe\"\n",
    "import pandas as pd\n",
    "import sqlite3\n",
    "from plotly import express as px\n",
    "from sklearn.linear_model import LinearRegression\n",
    "import seaborn as sns\n",
    "from matplotlib import pyplot as plt"
   ]
  },
  {
   "cell_type": "code",
   "execution_count": 2,
   "id": "131c7645-13f0-462b-aafb-69d6939ee8ca",
   "metadata": {
    "tags": []
   },
   "outputs": [],
   "source": [
    "conn = sqlite3.connect(\"schools.db\") #creates database"
   ]
  },
  {
   "cell_type": "code",
   "execution_count": 3,
   "id": "ebd12afa-dee5-44fc-96cf-45b6cba5aca1",
   "metadata": {
    "tags": []
   },
   "outputs": [],
   "source": [
    "df_iter = pd.read_csv(\"All_US_Schools.csv\", chunksize = 1000) # reads in our dataframe in digestible chunks of 1000 rows at a time"
   ]
  },
  {
   "cell_type": "code",
   "execution_count": 4,
   "id": "26f6e1a5-d473-4f6d-b25f-c55ad07214ac",
   "metadata": {
    "tags": []
   },
   "outputs": [],
   "source": [
    "for df in df_iter:\n",
    "    df.to_sql(\"schools\", conn, if_exists = \"append\", index = False) # writes each chunk of the dataframe into a SQL table"
   ]
  },
  {
   "cell_type": "code",
   "execution_count": 5,
   "id": "cdb9b65e-9f3a-4530-8c00-c504d5301670",
   "metadata": {
    "tags": []
   },
   "outputs": [],
   "source": [
    "def query_schools_database(state):\n",
    "    \"\"\"\n",
    "    query_schools_database uses SQL to read through a database containing relevant school district location.\n",
    "\n",
    "    :state: the name of the state to be investigated\n",
    "    \"\"\"\n",
    "    \n",
    "    cmd = \\\n",
    "    f\"\"\"\n",
    "    SELECT S.state, S.name, S.lat, S.lon\n",
    "    FROM schools S\n",
    "    WHERE S.state = \"{state}\"\n",
    "    \"\"\"\n",
    "    \n",
    "    return pd.read_sql_query(cmd, conn)\n"
   ]
  },
  {
   "cell_type": "code",
   "execution_count": 6,
   "id": "ee611b21-97e8-42e5-b2af-55f2f655a824",
   "metadata": {
    "tags": []
   },
   "outputs": [],
   "source": [
    "df = query_schools_database(\"AL\")"
   ]
  },
  {
   "cell_type": "code",
   "execution_count": 7,
   "id": "5c839792-85a6-4ee8-9447-cb6dc418bf8a",
   "metadata": {
    "tags": []
   },
   "outputs": [
    {
     "data": {
      "text/html": [
       "<div>\n",
       "<style scoped>\n",
       "    .dataframe tbody tr th:only-of-type {\n",
       "        vertical-align: middle;\n",
       "    }\n",
       "\n",
       "    .dataframe tbody tr th {\n",
       "        vertical-align: top;\n",
       "    }\n",
       "\n",
       "    .dataframe thead th {\n",
       "        text-align: right;\n",
       "    }\n",
       "</style>\n",
       "<table border=\"1\" class=\"dataframe\">\n",
       "  <thead>\n",
       "    <tr style=\"text-align: right;\">\n",
       "      <th></th>\n",
       "      <th>STATE</th>\n",
       "      <th>NAME</th>\n",
       "      <th>LAT</th>\n",
       "      <th>LON</th>\n",
       "    </tr>\n",
       "  </thead>\n",
       "  <tbody>\n",
       "    <tr>\n",
       "      <th>0</th>\n",
       "      <td>AL</td>\n",
       "      <td>Alabama Youth Services</td>\n",
       "      <td>32.376397</td>\n",
       "      <td>-86.084642</td>\n",
       "    </tr>\n",
       "    <tr>\n",
       "      <th>1</th>\n",
       "      <td>AL</td>\n",
       "      <td>Albertville City</td>\n",
       "      <td>34.282186</td>\n",
       "      <td>-86.223627</td>\n",
       "    </tr>\n",
       "    <tr>\n",
       "      <th>2</th>\n",
       "      <td>AL</td>\n",
       "      <td>Marshall County</td>\n",
       "      <td>34.305770</td>\n",
       "      <td>-86.286958</td>\n",
       "    </tr>\n",
       "    <tr>\n",
       "      <th>3</th>\n",
       "      <td>AL</td>\n",
       "      <td>Hoover City</td>\n",
       "      <td>33.406200</td>\n",
       "      <td>-86.766900</td>\n",
       "    </tr>\n",
       "    <tr>\n",
       "      <th>4</th>\n",
       "      <td>AL</td>\n",
       "      <td>Madison City</td>\n",
       "      <td>34.686721</td>\n",
       "      <td>-86.745741</td>\n",
       "    </tr>\n",
       "    <tr>\n",
       "      <th>...</th>\n",
       "      <td>...</td>\n",
       "      <td>...</td>\n",
       "      <td>...</td>\n",
       "      <td>...</td>\n",
       "    </tr>\n",
       "    <tr>\n",
       "      <th>180</th>\n",
       "      <td>AL</td>\n",
       "      <td>Walker County</td>\n",
       "      <td>33.834179</td>\n",
       "      <td>-87.274959</td>\n",
       "    </tr>\n",
       "    <tr>\n",
       "      <th>181</th>\n",
       "      <td>AL</td>\n",
       "      <td>Washington County</td>\n",
       "      <td>31.465862</td>\n",
       "      <td>-88.257989</td>\n",
       "    </tr>\n",
       "    <tr>\n",
       "      <th>182</th>\n",
       "      <td>AL</td>\n",
       "      <td>Wilcox County</td>\n",
       "      <td>32.003296</td>\n",
       "      <td>-87.290119</td>\n",
       "    </tr>\n",
       "    <tr>\n",
       "      <th>183</th>\n",
       "      <td>AL</td>\n",
       "      <td>Winfield City</td>\n",
       "      <td>33.933197</td>\n",
       "      <td>-87.811801</td>\n",
       "    </tr>\n",
       "    <tr>\n",
       "      <th>184</th>\n",
       "      <td>AL</td>\n",
       "      <td>Winston County</td>\n",
       "      <td>34.146071</td>\n",
       "      <td>-87.402788</td>\n",
       "    </tr>\n",
       "  </tbody>\n",
       "</table>\n",
       "<p>185 rows × 4 columns</p>\n",
       "</div>"
      ],
      "text/plain": [
       "    STATE                    NAME        LAT        LON\n",
       "0      AL  Alabama Youth Services  32.376397 -86.084642\n",
       "1      AL        Albertville City  34.282186 -86.223627\n",
       "2      AL         Marshall County  34.305770 -86.286958\n",
       "3      AL             Hoover City  33.406200 -86.766900\n",
       "4      AL            Madison City  34.686721 -86.745741\n",
       "..    ...                     ...        ...        ...\n",
       "180    AL           Walker County  33.834179 -87.274959\n",
       "181    AL       Washington County  31.465862 -88.257989\n",
       "182    AL           Wilcox County  32.003296 -87.290119\n",
       "183    AL           Winfield City  33.933197 -87.811801\n",
       "184    AL          Winston County  34.146071 -87.402788\n",
       "\n",
       "[185 rows x 4 columns]"
      ]
     },
     "execution_count": 7,
     "metadata": {},
     "output_type": "execute_result"
    }
   ],
   "source": [
    "df"
   ]
  },
  {
   "cell_type": "code",
   "execution_count": 16,
   "id": "2431fb28-1b2a-4d67-ac1b-bf6595792ad2",
   "metadata": {
    "tags": []
   },
   "outputs": [
    {
     "data": {
      "text/plain": [
       "['Alabama']"
      ]
     },
     "execution_count": 16,
     "metadata": {},
     "output_type": "execute_result"
    }
   ],
   "source": [
    "from pywebio.input import *\n",
    "checkbox(\"Multiple Choices!\", options=[\"Alabama\",'Alaska','Arizona','Arkansas','California','Colorado','Connecticut','Delaware','Florida','Georgia','Hawaii','Idaho','Illinois','Indiana','Iowa','Kansas','Kentucky','Louisiana','Maine','Maryland','Massachusetts','Michigan','Minnesota','Mississippi','Missouri','Montana','Nebraska','Nevada','New Hampshire','New Jersey','New Mexico','New York','North Carolina','North Dakota','Ohio','Oklahoma','Oregon','Pennsylvania','Rhode Island','South Carolina','South Dakota','Tennessee','Texas','Utah','Vermont','Virginia','Washington','West Virginia','Wisconsin','Wyoming'])"
   ]
  },
  {
   "cell_type": "code",
   "execution_count": null,
   "id": "5511f87c-087a-453b-93b3-94b569b8ebc4",
   "metadata": {
    "tags": []
   },
   "outputs": [],
   "source": [
    "import pandas as pd\n",
    "from pywebio.input import *\n",
    "checkbox(\"Multiple Choices!\", options=[\"Alabama\",'Alaska','Arizona','Arkansas','California','Colorado','Connecticut','Delaware','Florida','Georgia','Hawaii','Idaho','Illinois','Indiana','Iowa','Kansas','Kentucky','Louisiana','Maine','Maryland','Massachusetts','Michigan','Minnesota','Mississippi','Missouri','Montana','Nebraska','Nevada','New Hampshire','New Jersey','New Mexico','New York','North Carolina','North Dakota','Ohio','Oklahoma','Oregon','Pennsylvania','Rhode Island','South Carolina','South Dakota','Tennessee','Texas','Utah','Vermont','Virginia','Washington','West Virginia','Wisconsin','Wyoming'])\n"
   ]
  },
  {
   "cell_type": "code",
   "execution_count": null,
   "id": "46a9322b-fe3b-46e3-babf-b2aa013e61de",
   "metadata": {
    "tags": []
   },
   "outputs": [],
   "source": [
    "\n",
    "\n",
    "def query_schools_database(state):\n",
    "    \"\"\"\n",
    "    query_schools_database uses SQL to read through a database containing relevant school district location.\n",
    "\n",
    "    :state: the name of the state to be investigated\n",
    "    \"\"\"\n",
    "    \n",
    "    cmd = \\\n",
    "    f\"\"\"\n",
    "    SELECT S.state, S.name, S.lat, S.lon\n",
    "    FROM schools S\n",
    "    WHERE S.state = \"{state}\"\n",
    "    \"\"\"\n",
    "    \n",
    "    return pd.read_sql_query(cmd, conn)\n",
    "\n",
    "def get_user_input_and_query():\n",
    "    state_name = input(\"Enter the state name:\")\n",
    "    result = query_schools_database(state_name)\n",
    "    return result\n",
    "\n",
    "\n",
    "result_df = get_user_input_and_query()\n",
    "print(result_df) \n"
   ]
  },
  {
   "cell_type": "code",
   "execution_count": null,
   "id": "29e578e1-12f6-42fd-b32d-d803221c155f",
   "metadata": {},
   "outputs": [],
   "source": [
    "import pandas as pd\n",
    "from pywebio.input import *\n",
    "checkbox(\"Multiple Choices!\", options=[\"Alabama\",'Alaska','Arizona','Arkansas','California','Colorado','Connecticut','Delaware','Florida','Georgia','Hawaii','Idaho','Illinois','Indiana','Iowa','Kansas','Kentucky','Louisiana','Maine','Maryland','Massachusetts','Michigan','Minnesota','Mississippi','Missouri','Montana','Nebraska','Nevada','New Hampshire','New Jersey','New Mexico','New York','North Carolina','North Dakota','Ohio','Oklahoma','Oregon','Pennsylvania','Rhode Island','South Carolina','South Dakota','Tennessee','Texas','Utah','Vermont','Virginia','Washington','West Virginia','Wisconsin','Wyoming'])\n"
   ]
  },
  {
   "cell_type": "code",
   "execution_count": 6,
   "id": "39478fbf-1d3f-4c3e-9b0f-daff556be29a",
   "metadata": {
    "tags": []
   },
   "outputs": [
    {
     "name": "stdout",
     "output_type": "stream",
     "text": [
      "Running on all addresses.\n",
      "Use http://172.26.203.81:3000/ to access the application\n",
      " * Serving Flask app 'pywebio.platform.flask'\n",
      " * Debug mode: on\n"
     ]
    },
    {
     "name": "stderr",
     "output_type": "stream",
     "text": [
      "WARNING: This is a development server. Do not use it in a production deployment. Use a production WSGI server instead.\n",
      " * Running on all addresses (0.0.0.0)\n",
      " * Running on http://127.0.0.1:3000\n",
      " * Running on http://172.26.203.81:3000\n",
      "Press CTRL+C to quit\n",
      " * Restarting with stat\n"
     ]
    },
    {
     "ename": "SystemExit",
     "evalue": "1",
     "output_type": "error",
     "traceback": [
      "An exception has occurred, use %tb to see the full traceback.\n",
      "\u001b[1;31mSystemExit\u001b[0m\u001b[1;31m:\u001b[0m 1\n"
     ]
    }
   ],
   "source": [
    "from pywebio import *\n",
    "from pywebio.input import input, select\n",
    "from pywebio.output import put_text\n",
    "from pywebio.platform.flask import start_server\n",
    "from pywebio.session import register_thread\n",
    "import pandas as pd\n",
    "\n",
    "# Assuming 'conn' is defined elsewhere in your code\n",
    "# You might need to import necessary libraries and set up the database connection\n",
    "\n",
    "# Define the query function\n",
    "def query_schools_database(state):\n",
    "    cmd = f\"\"\"\n",
    "    SELECT S.state, S.name, S.lat, S.lon\n",
    "    FROM schools S\n",
    "    WHERE S.state = \"{state}\"\n",
    "    \"\"\"\n",
    "    return pd.read_sql_query(cmd, conn)\n",
    "\n",
    "def main():  \n",
    "    selected_state = select(\"Select a state\", options=[\"Alabama\", 'Alaska', 'Arizona', 'Arkansas', 'California', 'Colorado', 'Connecticut', 'Delaware', 'Florida', 'Georgia', 'Hawaii', 'Idaho', 'Illinois', 'Indiana', 'Iowa', 'Kansas', 'Kentucky', 'Louisiana', 'Maine', 'Maryland', 'Massachusetts', 'Michigan', 'Minnesota', 'Mississippi', 'Missouri', 'Montana', 'Nebraska', 'Nevada', 'New Hampshire', 'New Jersey', 'New Mexico', 'New York', 'North Carolina', 'North Dakota', 'Ohio', 'Oklahoma', 'Oregon', 'Pennsylvania', 'Rhode Island', 'South Carolina', 'South Dakota', 'Tennessee', 'Texas', 'Utah', 'Vermont', 'Virginia', 'Washington', 'West Virginia', 'Wisconsin', 'Wyoming'])\n",
    "    output = query_schools_database(selected_state)  \n",
    "    put_text(output)  \n",
    "\n",
    "if __name__ == '__main__':\n",
    "    start_server(main, port=3000, debug=True)\n"
   ]
  },
  {
   "cell_type": "code",
   "execution_count": null,
   "id": "bc9888c3-67d2-46e0-ba6f-34e2a33d8587",
   "metadata": {
    "tags": []
   },
   "outputs": [],
   "source": [
    "from pywebio.input import *\n",
    "checkbox(\"Multiple Choices!\", options=[\"Alabama\",'Alaska','Arizona','Arkansas','California'])"
   ]
  },
  {
   "cell_type": "code",
   "execution_count": 10,
   "id": "3fe8ad77-ca60-44e7-9a3f-d44fd0ab355a",
   "metadata": {},
   "outputs": [
    {
     "ename": "NameError",
     "evalue": "name 'put_scrollable' is not defined",
     "output_type": "error",
     "traceback": [
      "\u001b[0;31m---------------------------------------------------------------------------\u001b[0m",
      "\u001b[0;31mNameError\u001b[0m                                 Traceback (most recent call last)",
      "Cell \u001b[0;32mIn[10], line 3\u001b[0m\n\u001b[1;32m      1\u001b[0m \u001b[38;5;28;01mimport\u001b[39;00m \u001b[38;5;21;01mtime\u001b[39;00m\n\u001b[0;32m----> 3\u001b[0m \u001b[43mput_scrollable\u001b[49m(put_scope(\u001b[38;5;124m'\u001b[39m\u001b[38;5;124mscrollable\u001b[39m\u001b[38;5;124m'\u001b[39m), height\u001b[38;5;241m=\u001b[39m\u001b[38;5;241m200\u001b[39m, keep_bottom\u001b[38;5;241m=\u001b[39m\u001b[38;5;28;01mTrue\u001b[39;00m)\n\u001b[1;32m      4\u001b[0m put_text(\u001b[38;5;124m\"\u001b[39m\u001b[38;5;124mYou can click the area to prevent auto scroll.\u001b[39m\u001b[38;5;124m\"\u001b[39m, scope\u001b[38;5;241m=\u001b[39m\u001b[38;5;124m'\u001b[39m\u001b[38;5;124mscrollable\u001b[39m\u001b[38;5;124m'\u001b[39m)\n\u001b[1;32m      6\u001b[0m \u001b[38;5;28;01mwhile\u001b[39;00m \u001b[38;5;241m1\u001b[39m:\n",
      "\u001b[0;31mNameError\u001b[0m: name 'put_scrollable' is not defined"
     ]
    }
   ],
   "source": [
    "import time\n",
    "\n",
    "put_scrollable(put_scope('scrollable'), height=200, keep_bottom=True)\n",
    "put_text(\"You can click the area to prevent auto scroll.\", scope='scrollable')\n",
    "\n",
    "while 1:\n",
    "    put_text(time.time(), scope='scrollable')\n",
    "    time.sleep(0.5)"
   ]
  },
  {
   "cell_type": "code",
   "execution_count": 11,
   "id": "cfe1c444-428e-499e-98c8-22089ed65ddb",
   "metadata": {
    "tags": []
   },
   "outputs": [
    {
     "ename": "ImportError",
     "evalue": "cannot import name 'put_iframe' from 'pywebio.output' (/Users/madisongrace/anaconda3/envs/PIC16B-3/lib/python3.11/site-packages/pywebio/output.py)",
     "output_type": "error",
     "traceback": [
      "\u001b[0;31m---------------------------------------------------------------------------\u001b[0m",
      "\u001b[0;31mImportError\u001b[0m                               Traceback (most recent call last)",
      "Cell \u001b[0;32mIn[11], line 1\u001b[0m\n\u001b[0;32m----> 1\u001b[0m \u001b[38;5;28;01mfrom\u001b[39;00m \u001b[38;5;21;01mpywebio\u001b[39;00m\u001b[38;5;21;01m.\u001b[39;00m\u001b[38;5;21;01moutput\u001b[39;00m \u001b[38;5;28;01mimport\u001b[39;00m put_iframe\n\u001b[1;32m      2\u001b[0m \u001b[38;5;28;01mfrom\u001b[39;00m \u001b[38;5;21;01mpywebio\u001b[39;00m\u001b[38;5;21;01m.\u001b[39;00m\u001b[38;5;21;01mplatform\u001b[39;00m\u001b[38;5;21;01m.\u001b[39;00m\u001b[38;5;21;01mtornado\u001b[39;00m \u001b[38;5;28;01mimport\u001b[39;00m start_server\n\u001b[1;32m      4\u001b[0m \u001b[38;5;28;01mdef\u001b[39;00m \u001b[38;5;21membed_external_page\u001b[39m():\n\u001b[1;32m      5\u001b[0m     \u001b[38;5;66;03m# URL of the external webpage to embed\u001b[39;00m\n",
      "\u001b[0;31mImportError\u001b[0m: cannot import name 'put_iframe' from 'pywebio.output' (/Users/madisongrace/anaconda3/envs/PIC16B-3/lib/python3.11/site-packages/pywebio/output.py)"
     ]
    }
   ],
   "source": [
    "from pywebio.output import put_iframe\n",
    "from pywebio.platform.tornado import start_server\n",
    "\n",
    "def embed_external_page():\n",
    "    # URL of the external webpage to embed\n",
    "    external_url = \"https://www.example.com\"  # Replace with your desired URL\n",
    "\n",
    "    # Display the iframe with the external webpage\n",
    "    put_iframe(external_url, height='500px', width='100%')\n",
    "\n",
    "if __name__ == \"__main__\":\n",
    "    start_server(embed_external_page, debug=True)\n"
   ]
  },
  {
   "cell_type": "code",
   "execution_count": 14,
   "id": "505848b1-89c0-4de3-9a72-483f6bc9c1ad",
   "metadata": {
    "tags": []
   },
   "outputs": [
    {
     "ename": "SessionClosedException",
     "evalue": "",
     "output_type": "error",
     "traceback": [
      "\u001b[0;31m---------------------------------------------------------------------------\u001b[0m",
      "\u001b[0;31mSessionClosedException\u001b[0m                    Traceback (most recent call last)",
      "Cell \u001b[0;32mIn[14], line 2\u001b[0m\n\u001b[1;32m      1\u001b[0m \u001b[38;5;28;01mfrom\u001b[39;00m \u001b[38;5;21;01mpywebio\u001b[39;00m\u001b[38;5;21;01m.\u001b[39;00m\u001b[38;5;21;01moutput\u001b[39;00m \u001b[38;5;28;01mimport\u001b[39;00m popup\n\u001b[0;32m----> 2\u001b[0m \u001b[38;5;28;01mwith\u001b[39;00m \u001b[43mpopup\u001b[49m\u001b[43m(\u001b[49m\u001b[38;5;124;43m'\u001b[39;49m\u001b[38;5;124;43mPopup title\u001b[39;49m\u001b[38;5;124;43m'\u001b[39;49m\u001b[43m)\u001b[49m \u001b[38;5;28;01mas\u001b[39;00m s:\n\u001b[1;32m      3\u001b[0m     put_html(\u001b[38;5;124m'\u001b[39m\u001b[38;5;124m<h3>Popup Content</h3>\u001b[39m\u001b[38;5;124m'\u001b[39m)\n\u001b[1;32m      4\u001b[0m     put_text(\u001b[38;5;124m'\u001b[39m\u001b[38;5;124mhtml: <br/>\u001b[39m\u001b[38;5;124m'\u001b[39m)\n",
      "File \u001b[0;32m~/anaconda3/envs/PIC16B-3/lib/python3.11/site-packages/pywebio/io_ctrl.py:193\u001b[0m, in \u001b[0;36msafely_destruct_output_when_exp.<locals>.decorator.<locals>.inner\u001b[0;34m(*args, **kwargs)\u001b[0m\n\u001b[1;32m    190\u001b[0m \u001b[38;5;129m@wraps\u001b[39m(func)\n\u001b[1;32m    191\u001b[0m \u001b[38;5;28;01mdef\u001b[39;00m \u001b[38;5;21minner\u001b[39m(\u001b[38;5;241m*\u001b[39margs, \u001b[38;5;241m*\u001b[39m\u001b[38;5;241m*\u001b[39mkwargs):\n\u001b[1;32m    192\u001b[0m     \u001b[38;5;28;01mtry\u001b[39;00m:\n\u001b[0;32m--> 193\u001b[0m         \u001b[38;5;28;01mreturn\u001b[39;00m \u001b[43mfunc\u001b[49m\u001b[43m(\u001b[49m\u001b[38;5;241;43m*\u001b[39;49m\u001b[43margs\u001b[49m\u001b[43m,\u001b[49m\u001b[43m \u001b[49m\u001b[38;5;241;43m*\u001b[39;49m\u001b[38;5;241;43m*\u001b[39;49m\u001b[43mkwargs\u001b[49m\u001b[43m)\u001b[49m\n\u001b[1;32m    194\u001b[0m     \u001b[38;5;28;01mexcept\u001b[39;00m \u001b[38;5;167;01mException\u001b[39;00m:\n\u001b[1;32m    195\u001b[0m         \u001b[38;5;66;03m# 发生异常，安全地释放 Output 对象\u001b[39;00m\n\u001b[1;32m    196\u001b[0m         params \u001b[38;5;241m=\u001b[39m [content_param] \u001b[38;5;28;01mif\u001b[39;00m \u001b[38;5;28misinstance\u001b[39m(content_param, \u001b[38;5;28mstr\u001b[39m) \u001b[38;5;28;01melse\u001b[39;00m content_param\n",
      "File \u001b[0;32m~/anaconda3/envs/PIC16B-3/lib/python3.11/site-packages/pywebio/output.py:2040\u001b[0m, in \u001b[0;36mpopup\u001b[0;34m(title, content, size, implicit_close, closable)\u001b[0m\n\u001b[1;32m   2036\u001b[0m     \u001b[38;5;28;01massert\u001b[39;00m \u001b[38;5;28misinstance\u001b[39m(item, (\u001b[38;5;28mstr\u001b[39m, Output)), \u001b[38;5;124m\"\u001b[39m\u001b[38;5;124mpopup() content must be list of str/put_xxx()\u001b[39m\u001b[38;5;124m\"\u001b[39m\n\u001b[1;32m   2038\u001b[0m dom_id \u001b[38;5;241m=\u001b[39m random_str(\u001b[38;5;241m10\u001b[39m)\n\u001b[0;32m-> 2040\u001b[0m \u001b[43msend_msg\u001b[49m\u001b[43m(\u001b[49m\u001b[43mcmd\u001b[49m\u001b[38;5;241;43m=\u001b[39;49m\u001b[38;5;124;43m'\u001b[39;49m\u001b[38;5;124;43mpopup\u001b[39;49m\u001b[38;5;124;43m'\u001b[39;49m\u001b[43m,\u001b[49m\u001b[43m \u001b[49m\u001b[43mspec\u001b[49m\u001b[38;5;241;43m=\u001b[39;49m\u001b[38;5;28;43mdict\u001b[39;49m\u001b[43m(\u001b[49m\u001b[43mcontent\u001b[49m\u001b[38;5;241;43m=\u001b[39;49m\u001b[43mOutput\u001b[49m\u001b[38;5;241;43m.\u001b[39;49m\u001b[43mdump_dict\u001b[49m\u001b[43m(\u001b[49m\u001b[43mcontent\u001b[49m\u001b[43m)\u001b[49m\u001b[43m,\u001b[49m\u001b[43m \u001b[49m\u001b[43mtitle\u001b[49m\u001b[38;5;241;43m=\u001b[39;49m\u001b[43mtitle\u001b[49m\u001b[43m,\u001b[49m\u001b[43m \u001b[49m\u001b[43msize\u001b[49m\u001b[38;5;241;43m=\u001b[39;49m\u001b[43msize\u001b[49m\u001b[43m,\u001b[49m\n\u001b[1;32m   2041\u001b[0m \u001b[43m                                \u001b[49m\u001b[43mimplicit_close\u001b[49m\u001b[38;5;241;43m=\u001b[39;49m\u001b[43mimplicit_close\u001b[49m\u001b[43m,\u001b[49m\u001b[43m \u001b[49m\u001b[43mclosable\u001b[49m\u001b[38;5;241;43m=\u001b[39;49m\u001b[43mclosable\u001b[49m\u001b[43m,\u001b[49m\n\u001b[1;32m   2042\u001b[0m \u001b[43m                                \u001b[49m\u001b[43mdom_id\u001b[49m\u001b[38;5;241;43m=\u001b[39;49m\u001b[43mscope2dom\u001b[49m\u001b[43m(\u001b[49m\u001b[43mdom_id\u001b[49m\u001b[43m,\u001b[49m\u001b[43m \u001b[49m\u001b[43mno_css_selector\u001b[49m\u001b[38;5;241;43m=\u001b[39;49m\u001b[38;5;28;43;01mTrue\u001b[39;49;00m\u001b[43m)\u001b[49m\u001b[43m)\u001b[49m\u001b[43m)\u001b[49m\n\u001b[1;32m   2044\u001b[0m \u001b[38;5;28;01mreturn\u001b[39;00m use_scope_(dom_id)\n",
      "File \u001b[0;32m~/anaconda3/envs/PIC16B-3/lib/python3.11/site-packages/pywebio/io_ctrl.py:210\u001b[0m, in \u001b[0;36msend_msg\u001b[0;34m(cmd, spec, task_id)\u001b[0m\n\u001b[1;32m    209\u001b[0m \u001b[38;5;28;01mdef\u001b[39;00m \u001b[38;5;21msend_msg\u001b[39m(cmd, spec\u001b[38;5;241m=\u001b[39m\u001b[38;5;28;01mNone\u001b[39;00m, task_id\u001b[38;5;241m=\u001b[39m\u001b[38;5;28;01mNone\u001b[39;00m):\n\u001b[0;32m--> 210\u001b[0m     msg \u001b[38;5;241m=\u001b[39m \u001b[38;5;28mdict\u001b[39m(command\u001b[38;5;241m=\u001b[39mcmd, spec\u001b[38;5;241m=\u001b[39mspec, task_id\u001b[38;5;241m=\u001b[39mtask_id \u001b[38;5;129;01mor\u001b[39;00m \u001b[43mget_current_task_id\u001b[49m\u001b[43m(\u001b[49m\u001b[43m)\u001b[49m)\n\u001b[1;32m    211\u001b[0m     get_current_session()\u001b[38;5;241m.\u001b[39msend_task_command(msg)\n",
      "File \u001b[0;32m~/anaconda3/envs/PIC16B-3/lib/python3.11/site-packages/pywebio/session/__init__.py:241\u001b[0m, in \u001b[0;36mget_current_task_id\u001b[0;34m()\u001b[0m\n\u001b[1;32m    240\u001b[0m \u001b[38;5;28;01mdef\u001b[39;00m \u001b[38;5;21mget_current_task_id\u001b[39m():\n\u001b[0;32m--> 241\u001b[0m     \u001b[38;5;28;01mreturn\u001b[39;00m \u001b[43mget_session_implement\u001b[49m\u001b[43m(\u001b[49m\u001b[43m)\u001b[49m\u001b[38;5;241;43m.\u001b[39;49m\u001b[43mget_current_task_id\u001b[49m\u001b[43m(\u001b[49m\u001b[43m)\u001b[49m\n",
      "File \u001b[0;32m~/anaconda3/envs/PIC16B-3/lib/python3.11/site-packages/pywebio/session/threadbased.py:322\u001b[0m, in \u001b[0;36mScriptModeSession.get_current_task_id\u001b[0;34m(cls)\u001b[0m\n\u001b[1;32m    319\u001b[0m \u001b[38;5;129m@classmethod\u001b[39m\n\u001b[1;32m    320\u001b[0m \u001b[38;5;28;01mdef\u001b[39;00m \u001b[38;5;21mget_current_task_id\u001b[39m(\u001b[38;5;28mcls\u001b[39m):\n\u001b[1;32m    321\u001b[0m     task_id \u001b[38;5;241m=\u001b[39m \u001b[38;5;28msuper\u001b[39m()\u001b[38;5;241m.\u001b[39mget_current_task_id()\n\u001b[0;32m--> 322\u001b[0m     session \u001b[38;5;241m=\u001b[39m \u001b[38;5;28;43mcls\u001b[39;49m\u001b[38;5;241;43m.\u001b[39;49m\u001b[43mget_current_session\u001b[49m\u001b[43m(\u001b[49m\u001b[43m)\u001b[49m\n\u001b[1;32m    323\u001b[0m     \u001b[38;5;28;01mif\u001b[39;00m task_id \u001b[38;5;129;01mnot\u001b[39;00m \u001b[38;5;129;01min\u001b[39;00m session\u001b[38;5;241m.\u001b[39mtask_mqs:\n\u001b[1;32m    324\u001b[0m         session\u001b[38;5;241m.\u001b[39mregister_thread(threading\u001b[38;5;241m.\u001b[39mcurrent_thread())\n",
      "File \u001b[0;32m~/anaconda3/envs/PIC16B-3/lib/python3.11/site-packages/pywebio/session/threadbased.py:316\u001b[0m, in \u001b[0;36mScriptModeSession.get_current_session\u001b[0;34m(cls)\u001b[0m\n\u001b[1;32m    314\u001b[0m     \u001b[38;5;28;01mraise\u001b[39;00m SessionNotFoundException(\u001b[38;5;124m\"\u001b[39m\u001b[38;5;124mCan\u001b[39m\u001b[38;5;124m'\u001b[39m\u001b[38;5;124mt find current session. It might be a bug.\u001b[39m\u001b[38;5;124m\"\u001b[39m)\n\u001b[1;32m    315\u001b[0m \u001b[38;5;28;01mif\u001b[39;00m \u001b[38;5;28mcls\u001b[39m\u001b[38;5;241m.\u001b[39minstance\u001b[38;5;241m.\u001b[39mclosed():\n\u001b[0;32m--> 316\u001b[0m     \u001b[38;5;28;01mraise\u001b[39;00m SessionClosedException()\n\u001b[1;32m    317\u001b[0m \u001b[38;5;28;01mreturn\u001b[39;00m \u001b[38;5;28mcls\u001b[39m\u001b[38;5;241m.\u001b[39minstance\n",
      "\u001b[0;31mSessionClosedException\u001b[0m: "
     ]
    }
   ],
   "source": [
    "from pywebio.output import popup\n",
    "with popup('Popup title') as s:\n",
    "    put_html('<h3>Popup Content</h3>')\n",
    "    put_text('html: <br/>')\n",
    "    put_buttons([('clear()', s)], onclick=clear)\n",
    "\n",
    "put_text('Also work!', scope=s)"
   ]
  },
  {
   "cell_type": "code",
   "execution_count": 1,
   "id": "7ac75817-922e-468c-be30-e848de9a430a",
   "metadata": {
    "tags": []
   },
   "outputs": [
    {
     "name": "stdout",
     "output_type": "stream",
     "text": [
      "Running on all addresses.\n",
      "Use http://192.168.1.129:3000/ to access the application\n",
      " * Serving Flask app 'pywebio.platform.flask'\n",
      " * Debug mode: off\n",
      "Running on all addresses.\n",
      "Use http://192.168.1.129:3000/ to access the application\n",
      " * Serving Flask app 'pywebio.platform.flask'\n",
      " * Debug mode: on\n"
     ]
    },
    {
     "name": "stderr",
     "output_type": "stream",
     "text": [
      "Address already in use\n",
      "Port 3000 is in use by another program. Either identify and stop that program, or start the server with a different port.\n",
      "Exception in thread main_task:\n",
      "Traceback (most recent call last):\n",
      "  File \"/Users/madisongrace/anaconda3/envs/PIC16B-3/lib/python3.11/site-packages/werkzeug/serving.py\", line 746, in __init__\n",
      "    self.server_bind()\n",
      "  File \"/Users/madisongrace/anaconda3/envs/PIC16B-3/lib/python3.11/http/server.py\", line 136, in server_bind\n",
      "    socketserver.TCPServer.server_bind(self)\n",
      "  File \"/Users/madisongrace/anaconda3/envs/PIC16B-3/lib/python3.11/socketserver.py\", line 472, in server_bind\n",
      "    self.socket.bind(self.server_address)\n",
      "OSError: [Errno 48] Address already in use\n",
      "\n",
      "During handling of the above exception, another exception occurred:\n",
      "\n",
      "Traceback (most recent call last):\n",
      "  File \"/Users/madisongrace/anaconda3/envs/PIC16B-3/lib/python3.11/site-packages/pywebio/session/threadbased.py\", line 86, in main_task\n",
      "    target()\n",
      "  File \"/var/folders/8s/1761kgds2cz850rj2_vm2fr80000gn/T/ipykernel_42341/1913247747.py\", line 37, in thread_func\n",
      "  File \"/Users/madisongrace/anaconda3/envs/PIC16B-3/lib/python3.11/site-packages/pywebio/platform/flask.py\", line 181, in start_server\n",
      "    app.run(host=host, port=port, debug=debug, threaded=True, use_evalex=False, **flask_options)\n",
      "  File \"/Users/madisongrace/anaconda3/envs/PIC16B-3/lib/python3.11/site-packages/flask/app.py\", line 612, in run\n",
      "    run_simple(t.cast(str, host), port, self, **options)\n",
      "  File \"/Users/madisongrace/anaconda3/envs/PIC16B-3/lib/python3.11/site-packages/werkzeug/serving.py\", line 1077, in run_simple\n",
      "    srv = make_server(\n",
      "          ^^^^^^^^^^^^\n",
      "  File \"/Users/madisongrace/anaconda3/envs/PIC16B-3/lib/python3.11/site-packages/werkzeug/serving.py\", line 917, in make_server\n",
      "    return ThreadedWSGIServer(\n",
      "           ^^^^^^^^^^^^^^^^^^^\n",
      "  File \"/Users/madisongrace/anaconda3/envs/PIC16B-3/lib/python3.11/site-packages/werkzeug/serving.py\", line 769, in __init__\n",
      "    sys.exit(1)\n",
      "SystemExit: 1\n",
      "\n",
      "During handling of the above exception, another exception occurred:\n",
      "\n",
      "Traceback (most recent call last):\n",
      "  File \"/Users/madisongrace/anaconda3/envs/PIC16B-3/lib/python3.11/threading.py\", line 1045, in _bootstrap_inner\n",
      "    self.run()\n",
      "  File \"/Users/madisongrace/anaconda3/envs/PIC16B-3/lib/python3.11/threading.py\", line 982, in run\n",
      "    self._target(*self._args, **self._kwargs)\n",
      "  File \"/Users/madisongrace/anaconda3/envs/PIC16B-3/lib/python3.11/site-packages/pywebio/session/threadbased.py\", line 92, in main_task\n",
      "    if t.is_alive() and t is not threading.current_thread():\n",
      "       ^^^^^^^^^^\n",
      "AttributeError: 'function' object has no attribute 'is_alive'\n"
     ]
    }
   ],
   "source": [
    "from pywebio import *\n",
    "from pywebio.input import input, select\n",
    "from pywebio.output import put_text\n",
    "from pywebio.platform.flask import start_server\n",
    "from pywebio.session import register_thread\n",
    "import pandas as pd\n",
    "\n",
    "# Define the query function\n",
    "def query_schools_database(state):\n",
    "    \"\"\"\n",
    "    query_schools_database uses SQL to read through a database containing relevant school district location.\n",
    "\n",
    "    :state: the name of the state to be investigated\n",
    "    \"\"\"\n",
    "    \n",
    "    # Replace 'conn' with your database connection object\n",
    "    cmd = f\"\"\"\n",
    "    SELECT S.statename, S.lea_name \"Name\", S.mstreet1, S.mzip, S.mcity \"city\"\n",
    "    FROM schools S\n",
    "    WHERE S.statename = \"{state}\"\n",
    "    \"\"\"\n",
    "    \n",
    "    # Perform the database query and return the result\n",
    "    return pd.read_sql_query(cmd, conn)\n",
    "\n",
    "def main():  # PyWebIO application function\n",
    "    state = checkbox(\"Select a State\", options=[\"Alabama\",'Alaska','Arizona','Arkansas','California','Colorado','Connecticut','Delaware','Florida','Georgia','Hawaii','Idaho','Illinois','Indiana','Iowa','Kansas','Kentucky','Louisiana','Maine','Maryland','Massachusetts','Michigan','Minnesota','Mississippi','Missouri','Montana','Nebraska','Nevada','New Hampshire','New Jersey','New Mexico','New York','North Carolina','North Dakota','Ohio','Oklahoma','Oregon','Pennsylvania','Rhode Island','South Carolina','South Dakota','Tennessee','Texas','Utah','Vermont','Virginia','Washington','West Virginia','Wisconsin','Wyoming'])\n",
    "    \n",
    "    # Check if a state is selected\n",
    "    if state:\n",
    "        output = query_schools_database(state[0])  # Query the database using the selected state\n",
    "        put_text(output)  # Display the query result\n",
    "\n",
    "if __name__ == '__main__':\n",
    "    def thread_func():\n",
    "        register_thread(thread_func)\n",
    "        start_server(main, port=3000, debug=True)\n",
    "    thread = start_server(thread_func, port=3000)\n"
   ]
  },
  {
   "cell_type": "code",
   "execution_count": 1,
   "id": "8cd58931-dfb1-4066-b6fa-a134fdf60a02",
   "metadata": {
    "tags": []
   },
   "outputs": [
    {
     "name": "stdout",
     "output_type": "stream",
     "text": [
      "Running on all addresses.\n",
      "Use http://192.168.1.129:3000/ to access the application\n",
      " * Serving Flask app 'pywebio.platform.flask'\n",
      " * Debug mode: off\n",
      "Running on all addresses.\n",
      "Use http://192.168.1.129:3000/ to access the application\n",
      " * Serving Flask app 'pywebio.platform.flask'\n",
      " * Debug mode: on\n"
     ]
    },
    {
     "name": "stderr",
     "output_type": "stream",
     "text": [
      "Address already in use\n",
      "Port 3000 is in use by another program. Either identify and stop that program, or start the server with a different port.\n",
      "Exception in thread main_task:\n",
      "Traceback (most recent call last):\n",
      "  File \"/Users/madisongrace/anaconda3/envs/PIC16B-3/lib/python3.11/site-packages/werkzeug/serving.py\", line 746, in __init__\n",
      "    self.server_bind()\n",
      "  File \"/Users/madisongrace/anaconda3/envs/PIC16B-3/lib/python3.11/http/server.py\", line 136, in server_bind\n",
      "    socketserver.TCPServer.server_bind(self)\n",
      "  File \"/Users/madisongrace/anaconda3/envs/PIC16B-3/lib/python3.11/socketserver.py\", line 472, in server_bind\n",
      "    self.socket.bind(self.server_address)\n",
      "OSError: [Errno 48] Address already in use\n",
      "\n",
      "During handling of the above exception, another exception occurred:\n",
      "\n",
      "Traceback (most recent call last):\n",
      "  File \"/Users/madisongrace/anaconda3/envs/PIC16B-3/lib/python3.11/site-packages/pywebio/session/threadbased.py\", line 86, in main_task\n",
      "    target()\n",
      "  File \"/var/folders/8s/1761kgds2cz850rj2_vm2fr80000gn/T/ipykernel_42390/2899226413.py\", line 35, in thread_func\n",
      "  File \"/Users/madisongrace/anaconda3/envs/PIC16B-3/lib/python3.11/site-packages/pywebio/platform/flask.py\", line 181, in start_server\n",
      "    app.run(host=host, port=port, debug=debug, threaded=True, use_evalex=False, **flask_options)\n",
      "  File \"/Users/madisongrace/anaconda3/envs/PIC16B-3/lib/python3.11/site-packages/flask/app.py\", line 612, in run\n",
      "    run_simple(t.cast(str, host), port, self, **options)\n",
      "  File \"/Users/madisongrace/anaconda3/envs/PIC16B-3/lib/python3.11/site-packages/werkzeug/serving.py\", line 1077, in run_simple\n",
      "    srv = make_server(\n",
      "          ^^^^^^^^^^^^\n",
      "  File \"/Users/madisongrace/anaconda3/envs/PIC16B-3/lib/python3.11/site-packages/werkzeug/serving.py\", line 917, in make_server\n",
      "    return ThreadedWSGIServer(\n",
      "           ^^^^^^^^^^^^^^^^^^^\n",
      "  File \"/Users/madisongrace/anaconda3/envs/PIC16B-3/lib/python3.11/site-packages/werkzeug/serving.py\", line 769, in __init__\n",
      "    sys.exit(1)\n",
      "SystemExit: 1\n",
      "\n",
      "During handling of the above exception, another exception occurred:\n",
      "\n",
      "Traceback (most recent call last):\n",
      "  File \"/Users/madisongrace/anaconda3/envs/PIC16B-3/lib/python3.11/threading.py\", line 1045, in _bootstrap_inner\n",
      "    self.run()\n",
      "  File \"/Users/madisongrace/anaconda3/envs/PIC16B-3/lib/python3.11/threading.py\", line 982, in run\n",
      "    self._target(*self._args, **self._kwargs)\n",
      "  File \"/Users/madisongrace/anaconda3/envs/PIC16B-3/lib/python3.11/site-packages/pywebio/session/threadbased.py\", line 92, in main_task\n",
      "    if t.is_alive() and t is not threading.current_thread():\n",
      "       ^^^^^^^^^^\n",
      "AttributeError: 'function' object has no attribute 'is_alive'\n"
     ]
    }
   ],
   "source": [
    "from pywebio import *\n",
    "from pywebio.platform.flask import start_server\n",
    "from pywebio.session import register_thread\n",
    "import pandas as pd\n",
    "\n",
    "# Define the query function\n",
    "def query_schools_database(state):\n",
    "    \"\"\"\n",
    "    query_schools_database uses SQL to read through a database containing relevant school district location.\n",
    "\n",
    "    :state: the name of the state to be investigated\n",
    "    \"\"\"\n",
    "    \n",
    "    # Replace 'conn' with your database connection object\n",
    "    cmd = f\"\"\"\n",
    "    SELECT S.statename, S.lea_name \"Name\", S.mstreet1, S.mzip, S.mcity \"city\"\n",
    "    FROM schools S\n",
    "    WHERE S.statename = \"{state}\"\n",
    "    \"\"\"\n",
    "    \n",
    "    # Perform the database query and return the result\n",
    "    return pd.read_sql_query(cmd, conn)\n",
    "\n",
    "def main():  # PyWebIO application function\n",
    "    state = select(\"Select a State\", options=[\"Alabama\",'Alaska','Arizona','Arkansas','California','Colorado','Connecticut','Delaware','Florida','Georgia','Hawaii','Idaho','Illinois','Indiana','Iowa','Kansas','Kentucky','Louisiana','Maine','Maryland','Massachusetts','Michigan','Minnesota','Mississippi','Missouri','Montana','Nebraska','Nevada','New Hampshire','New Jersey','New Mexico','New York','North Carolina','North Dakota','Ohio','Oklahoma','Oregon','Pennsylvania','Rhode Island','South Carolina','South Dakota','Tennessee','Texas','Utah','Vermont','Virginia','Washington','West Virginia','Wisconsin','Wyoming'])\n",
    "    \n",
    "    # Check if a state is selected\n",
    "    if state:\n",
    "        output = query_schools_database(state)  # Query the database using the selected state\n",
    "        put_text(output)  # Display the query result\n",
    "\n",
    "if __name__ == '__main__':\n",
    "    def thread_func():\n",
    "        register_thread(thread_func)\n",
    "        start_server(main, port=3000, debug=True)\n",
    "    thread = start_server(thread_func, port=3000)\n"
   ]
  },
  {
   "cell_type": "code",
   "execution_count": 1,
   "id": "5fb3b562-d0cf-4aa7-97d8-67b927400648",
   "metadata": {
    "tags": []
   },
   "outputs": [
    {
     "data": {
      "text/plain": [
       "<pywebio.io_ctrl.Output at 0x143cefb50>"
      ]
     },
     "execution_count": 1,
     "metadata": {},
     "output_type": "execute_result"
    }
   ],
   "source": [
    "from pywebio.output import put_html\n",
    "import plotly.express as px\n",
    "df = px.data.gapminder().query(\"year==2007\")\n",
    "fig = px.scatter_geo(df, locations=\"iso_alpha\", color=\"continent\",\n",
    "                     hover_name=\"country\", size=\"pop\",\n",
    "                     projection=\"natural earth\")\n",
    "html = fig.to_html(include_plotlyjs=\"require\", full_html=False)\n",
    "put_html(html)"
   ]
  },
  {
   "cell_type": "code",
   "execution_count": 1,
   "id": "50efdf8f-9642-43a4-a849-27507f9e0511",
   "metadata": {
    "tags": []
   },
   "outputs": [
    {
     "data": {
      "text/plain": [
       "['South Dakota', 'Vermont']"
      ]
     },
     "execution_count": 1,
     "metadata": {},
     "output_type": "execute_result"
    }
   ],
   "source": [
    "from pywebio.input import *\n",
    "checkbox(\"Multiple Choices!\", options=[\"Alabama\",'Alaska','Arizona','Arkansas','California','Colorado','Connecticut','Delaware','Florida','Georgia','Hawaii','Idaho','Illinois','Indiana','Iowa','Kansas','Kentucky','Louisiana','Maine','Maryland','Massachusetts','Michigan','Minnesota','Mississippi','Missouri','Montana','Nebraska','Nevada','New Hampshire','New Jersey','New Mexico','New York','North Carolina','North Dakota','Ohio','Oklahoma','Oregon','Pennsylvania','Rhode Island','South Carolina','South Dakota','Tennessee','Texas','Utah','Vermont','Virginia','Washington','West Virginia','Wisconsin','Wyoming'])\n"
   ]
  },
  {
   "cell_type": "code",
   "execution_count": null,
   "id": "639df427-e146-4c36-a9da-81839cb40815",
   "metadata": {},
   "outputs": [],
   "source": []
  }
 ],
 "metadata": {
  "kernelspec": {
   "display_name": "Python [conda env:PIC16B-2] *",
   "language": "python",
   "name": "conda-env-PIC16B-2-py"
  },
  "language_info": {
   "codemirror_mode": {
    "name": "ipython",
    "version": 3
   },
   "file_extension": ".py",
   "mimetype": "text/x-python",
   "name": "python",
   "nbconvert_exporter": "python",
   "pygments_lexer": "ipython3",
   "version": "3.11.5"
  }
 },
 "nbformat": 4,
 "nbformat_minor": 5
}
