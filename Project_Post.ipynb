{
 "cells": [
  {
   "cell_type": "markdown",
   "id": "390ae7d3-36c2-4062-85df-5cc0c1c1afa0",
   "metadata": {},
   "source": [
    "# Creating a Website to Evaluate the Effect of CRT on School Districts"
   ]
  },
  {
   "cell_type": "markdown",
   "id": "7118c09a-9f63-4bc6-976d-f81503139316",
   "metadata": {},
   "source": [
    "#### By Joshua Moore and Madison Newberry"
   ]
  },
  {
   "cell_type": "markdown",
   "id": "7cebd65d-3260-404a-a033-b66e7b9716fb",
   "metadata": {},
   "source": [
    "## The purpose of this project is to try to determine and illustrate a possible correlation between the inclusion, or exclusion, of Critical Race Theory (CRT) curriculum within K-12 schools and quality of education provided. \n",
    "### In order to accomplish this, we will have to perform a significant data acquisition task in order to determine whether or not CRT curriculum being taught in schools correlates with the quality of the education that the children are receiving. \n",
    "##### (Credit to Christine Ma, who collaborated with Joshua Moore to come up with this idea, but unfortunately dropped the class before being able to do the project."
   ]
  },
  {
   "cell_type": "markdown",
   "id": "20b05236-ff23-4f50-b1a6-b2921d635f68",
   "metadata": {},
   "source": [
    "#### In order to create our desired end-product, we will be utilizing Flask, which is a micro web framework written in Python that will allow us to publish our webapp."
   ]
  },
  {
   "cell_type": "markdown",
   "id": "50679e35-4a3b-4e70-87d1-c22e97b19ae2",
   "metadata": {},
   "source": [
    "#### talk about our data sets here\n",
    "#### So, let's get to it. Our first step will be to download some required libraries, including Flask, pandas, sqlite3, and plotly into a file called \"app.py.\" We will also go ahead and create a Flask instance, and give it a secret password."
   ]
  },
  {
   "cell_type": "code",
   "execution_count": 2,
   "id": "18fe2389-662d-4c9d-9c1d-bdcf0ba560f4",
   "metadata": {
    "tags": []
   },
   "outputs": [],
   "source": [
    "from flask import Flask, render_template, request, session\n",
    "import pandas as pd\n",
    "import sqlite3\n",
    "import plotly.express as px #used for visualizations\n",
    "\n",
    "app = Flask(__name__) #creates instance of flask\n",
    "app.secret_key = \"PIC16B\" #secret key for flask app"
   ]
  },
  {
   "cell_type": "markdown",
   "id": "218cfa37-b518-4a62-b74a-8765bd323690",
   "metadata": {},
   "source": [
    "#### Now, let's establish a connection to a SQLite database called \"schools.db\" and check if a table named 'schools'exists within the database."
   ]
  },
  {
   "cell_type": "code",
   "execution_count": 3,
   "id": "1df8c5be-0c7c-4359-aba2-b68b814f6984",
   "metadata": {
    "tags": []
   },
   "outputs": [],
   "source": [
    "# Initialize database connection\n",
    "conn = sqlite3.connect(\"schools.db\", check_same_thread=False)\n",
    "# this prevents duplicate information from being added to the database, so if you run the same page multiple times you only get 1 set of information\n",
    "if not conn.execute(\"SELECT name FROM sqlite_master WHERE type='table' AND name='schools';\").fetchone(): \n",
    "    df_iter = pd.read_csv(\"All_US_Schools.csv\", chunksize=1000)\n",
    "    for df_chunk in df_iter:\n",
    "        df_chunk.to_sql(\"schools\", conn, if_exists=\"append\", index=False)"
   ]
  },
  {
   "cell_type": "markdown",
   "id": "721b8158-a033-45c4-9d9a-6818d23801e9",
   "metadata": {},
   "source": [
    "#### Now let's write a function that will determine whether or not CRT is used within the educational system. We want this function to be able to take the name of a state as an argument and output the corresponding CRT status defined in the \"state_crt\" dictionary."
   ]
  },
  {
   "cell_type": "code",
   "execution_count": 4,
   "id": "5867a75a-550b-408f-9e0b-c63290724e0c",
   "metadata": {
    "tags": []
   },
   "outputs": [],
   "source": [
    "def state_crt_condition(state):\n",
    "    \"\"\"\n",
    "    retrieve the status of CRT in a given state\n",
    "\n",
    "    :state: the name of the state to be investigated\n",
    "    \"\"\"\n",
    "    state = state.lower() # removes any casing issues\n",
    "    state_crt = { # contains all the state information\n",
    "        \"alabama\": \"No CRT\",\n",
    "        \"alaska\": \"CRT\",\n",
    "        \"arizona\": \"CRT\",\n",
    "        \"arkansas\": \"No CRT\",\n",
    "        \"california\": \"CRT\",\n",
    "        \"colorado\": \"CRT\",\n",
    "        \"connecticut\": \"CRT\",\n",
    "        \"delaware\": \"CRT\",\n",
    "        \"florida\": \"No CRT\",\n",
    "        \"georgia\": \"No CRT\",\n",
    "        \"hawaii\": \"CRT\",\n",
    "        \"idaho\": \"No CRT\",\n",
    "        \"illinois\": \"CRT\",\n",
    "        \"indiana\": \"CRT\",\n",
    "        \"iowa\": \"No CRT\",\n",
    "        \"kansas\": \"CRT\",\n",
    "        \"kentucky\": \"No CRT\",\n",
    "        \"louisiana\": \"CRT\",\n",
    "        \"maine\": \"CRT\",\n",
    "        \"maryland\": \"CRT\",\n",
    "        \"massachusetts\": \"CRT\",\n",
    "        \"michigan\": \"CRT\",\n",
    "        \"minnesota\": \"CRT\",\n",
    "        \"mississippi\": \"No CRT\",\n",
    "        \"missouri\": \"CRT\",\n",
    "        \"montana\": \"No CRT\",\n",
    "        \"nebraska\": \"CRT\",\n",
    "        \"nevada\": \"CRT\",\n",
    "        \"new hampshire\": \"No CRT\",\n",
    "        \"new jersey\": \"CRT\",\n",
    "        \"new mexico\": \"CRT\",\n",
    "        \"new york\": \"CRT\",\n",
    "        \"north carolina\": \"CRT\",\n",
    "        \"north dakota\": \"No CRT\",\n",
    "        \"ohio\": \"CRT\",\n",
    "        \"oklahoma\": \"No CRT\",\n",
    "        \"oregon\": \"CRT\",\n",
    "        \"pennsylvania\": \"CRT\",\n",
    "        \"rhode island\": \"CRT\",\n",
    "        \"south carolina\": \"No CRT\",\n",
    "        \"south dakota\": \"No CRT\",\n",
    "        \"tennessee\": \"No CRT\",\n",
    "        \"texas\": \"No CRT\",\n",
    "        \"utah\": \"No CRT\",\n",
    "        \"vermont\": \"CRT\",\n",
    "        \"virginia\": \"No CRT\",\n",
    "        \"washington\": \"CRT\",\n",
    "        \"west virginia\": \"CRT\",\n",
    "        \"wisconsin\": \"CRT\",\n",
    "        \"wyoming\": \"CRT\",\n",
    "    }\n",
    "    return state_crt.get(state)"
   ]
  },
  {
   "cell_type": "markdown",
   "id": "57adb8f4-42b2-407e-9168-5dbd3a6af702",
   "metadata": {},
   "source": [
    "#### Now let's write another function that converts the full name of a U.S. state into its corresponding 2-letter state code."
   ]
  },
  {
   "cell_type": "code",
   "execution_count": 5,
   "id": "79267790-b236-459c-a23c-ff5fade090d0",
   "metadata": {
    "tags": []
   },
   "outputs": [],
   "source": [
    "def state_code_conversion(state):\n",
    "    \"\"\"\n",
    "    convert the state full name into a 2 letter code\n",
    "\n",
    "    :state: the name of the state to be investigated\n",
    "    \"\"\"\n",
    "    state = state.lower() # removes any casing issues\n",
    "    state_codon = { # contains all the state information\n",
    "        \"alabama\": \"AL\",\n",
    "        \"alaska\": \"AK\",\n",
    "        \"arizona\": \"AZ\",\n",
    "        \"arkansas\": \"AR\",\n",
    "        \"california\": \"CA\",\n",
    "        \"colorado\": \"CO\",\n",
    "        \"connecticut\": \"CT\",\n",
    "        \"delaware\": \"DE\",\n",
    "        \"florida\": \"FL\",\n",
    "        \"georgia\": \"GA\",\n",
    "        \"hawaii\": \"HI\",\n",
    "        \"idaho\": \"ID\",\n",
    "        \"illinois\": \"IL\",\n",
    "        \"indiana\": \"IN\",\n",
    "        \"iowa\": \"IA\",\n",
    "        \"kansas\": \"KS\",\n",
    "        \"kentucky\": \"KY\",\n",
    "        \"louisiana\": \"LA\",\n",
    "        \"maine\": \"ME\",\n",
    "        \"maryland\": \"MD\",\n",
    "        \"massachusetts\": \"MA\",\n",
    "        \"michigan\": \"MI\",\n",
    "        \"minnesota\": \"MN\",\n",
    "        \"mississippi\": \"MS\",\n",
    "        \"missouri\": \"MO\",\n",
    "        \"montana\": \"MT\",\n",
    "        \"nebraska\": \"NE\",\n",
    "        \"nevada\": \"NV\",\n",
    "        \"new hampshire\": \"NH\",\n",
    "        \"new jersey\": \"NJ\",\n",
    "        \"new mexico\": \"NM\",\n",
    "        \"new york\": \"NY\",\n",
    "        \"north carolina\": \"NC\",\n",
    "        \"north dakota\": \"ND\",\n",
    "        \"ohio\": \"OH\",\n",
    "        \"oklahoma\": \"OK\",\n",
    "        \"oregon\": \"OR\",\n",
    "        \"pennsylvania\": \"PA\",\n",
    "        \"rhode island\": \"RI\",\n",
    "        \"south carolina\": \"SC\",\n",
    "        \"south dakota\": \"SD\",\n",
    "        \"tennessee\": \"TN\",\n",
    "        \"texas\": \"TX\",\n",
    "        \"utah\": \"UT\",\n",
    "        \"vermont\": \"VT\",\n",
    "        \"virginia\": \"VA\",\n",
    "        \"washington\": \"WA\",\n",
    "        \"west virginia\": \"WV\",\n",
    "        \"wisconsin\": \"WI\",\n",
    "        \"wyoming\": \"WY\",\n",
    "    }\n",
    "    return state_codon.get(state)"
   ]
  },
  {
   "cell_type": "markdown",
   "id": "d25984dd-3d13-4b64-8802-dc2c47c9840a",
   "metadata": {},
   "source": [
    "#### Let's define a function called \"query_schools_database\" that performs an SQL query to retrieve the desired information about school districts within a specific U.S. state."
   ]
  },
  {
   "cell_type": "code",
   "execution_count": 6,
   "id": "ce3231be-9b33-4492-8f44-dc2d8c238a4d",
   "metadata": {
    "tags": []
   },
   "outputs": [],
   "source": [
    "def query_schools_database(state):\n",
    "    \"\"\"\n",
    "    query_schools_database uses SQL to read through a database containing relevant school district location.\n",
    "\n",
    "    :state: the name of the state to be investigated\n",
    "    \"\"\"\n",
    "    \n",
    "    cmd = \\\n",
    "    f\"\"\"\n",
    "    SELECT S.state, S.name, S.lat, S.lon\n",
    "    FROM schools S\n",
    "    WHERE S.state = \"{state}\"\n",
    "    \"\"\"\n",
    "    \n",
    "    return pd.read_sql_query(cmd, conn)"
   ]
  },
  {
   "cell_type": "markdown",
   "id": "f4f0e78f-690a-41c8-b78b-c8982715d31a",
   "metadata": {},
   "source": [
    "#### Our next step will be write a route function that handles POST requests in order to retrieve and process the information related to the districts."
   ]
  },
  {
   "cell_type": "code",
   "execution_count": 7,
   "id": "6c58eba3-92af-4399-bdcf-982ea9b9e1c2",
   "metadata": {
    "tags": []
   },
   "outputs": [],
   "source": [
    "@app.route('/')\n",
    "def index():\n",
    "    return render_template('index.html', PageTitle=\"School Data\")\n",
    "\n",
    "@app.route('/process', methods=['POST'])\n",
    "def process():\n",
    "    conn = sqlite3.connect(\"schools.db\", check_same_thread=False)\n",
    "    selected_state = request.form['state']\n",
    "    state_name = selected_state\n",
    "    session[\"state_name\"] = state_name\n",
    "    selected_state = state_code_conversion(selected_state)\n",
    "    session[\"selected_state\"] = selected_state\n",
    "    state_crt = state_crt_condition(state_name)\n",
    "    session[\"state_crt\"] = state_crt\n",
    "    schools_data = query_schools_database(selected_state)\n",
    "    prof = pd.read_csv(f\"{state_name}_df.csv\")\n",
    "    final_df = pd.merge(schools_data, prof, on='NAME', how='left')\n",
    "    conn.close()\n",
    "    print(session)\n",
    "    \n",
    "    \n",
    "    # Create Plotly figure\n",
    "    fig = px.scatter_mapbox(final_df, lat='LAT', lon='LON', zoom=5, mapbox_style='carto-positron', hover_name='NAME', hover_data='Average Assessment Proficiency', color='Average Assessment Proficiency', color_continuous_midpoint=50)\n",
    "\n",
    "    # Convert the Plotly figure to HTML\n",
    "    plotly_html = fig.to_html(full_html=False)\n",
    "\n",
    "    return render_template('result.html', schools_data=final_df, plotly_html=plotly_html, state_name=state_name, state_crt=state_crt)"
   ]
  },
  {
   "cell_type": "markdown",
   "id": "f5baac71-b430-4c8a-8586-ff1b1b4d97a7",
   "metadata": {},
   "source": [
    "#### Perfect! Let's now define another route function that will handle district-specific data and requests. This route function will acquire and prepare the data, even producing a Plotly map, and renders a template created by ourselves called 'district_page.html') to display the data."
   ]
  },
  {
   "cell_type": "code",
   "execution_count": 8,
   "id": "36fd4c57-88a1-4ddb-94c8-7120c7e268be",
   "metadata": {
    "tags": []
   },
   "outputs": [],
   "source": [
    "@app.route('/district/<district_name>')\n",
    "def district_page(district_name):\n",
    "    conn = sqlite3.connect(\"schools.db\", check_same_thread=False)\n",
    "    state_name = session.get(\"state_name\")\n",
    "    selected_state = session[\"selected_state\"]\n",
    "    state_crt = state_crt_condition(state_name)\n",
    "    schools_data = query_schools_database(selected_state)\n",
    "    prof = pd.read_csv(f\"{state_name}_df.csv\")\n",
    "    final_df = pd.merge(schools_data, prof, on='NAME', how='left')\n",
    "    conn.close()\n",
    "    district_df = final_df.loc[final_df[\"NAME\"] == district_name] \n",
    "    \n",
    "    # Create Plotly figure\n",
    "    fig = px.scatter_mapbox(district_df, lat='LAT', lon='LON', zoom=5, mapbox_style='carto-positron', hover_name='NAME', hover_data='Average Assessment Proficiency', color='Average Assessment Proficiency', color_continuous_midpoint=50)\n",
    "\n",
    "    # Convert the Plotly figure to HTML\n",
    "    plotly_html = fig.to_html(full_html=False)\n",
    "    \n",
    "    return render_template('district_page.html', schools_data=district_df, plotly_html=plotly_html, state_name=state_name, state_crt=state_crt)\n",
    "\n",
    "if __name__ == '__main__':\n",
    "    app.run(debug=True, port=5009)"
   ]
  },
  {
   "cell_type": "code",
   "execution_count": null,
   "id": "2e998044-d317-4375-bdd8-e55e44be6198",
   "metadata": {},
   "outputs": [],
   "source": []
  }
 ],
 "metadata": {
  "kernelspec": {
   "display_name": "Python [conda env:PIC16B-3] *",
   "language": "python",
   "name": "conda-env-PIC16B-3-py"
  },
  "language_info": {
   "codemirror_mode": {
    "name": "ipython",
    "version": 3
   },
   "file_extension": ".py",
   "mimetype": "text/x-python",
   "name": "python",
   "nbconvert_exporter": "python",
   "pygments_lexer": "ipython3",
   "version": "3.11.6"
  }
 },
 "nbformat": 4,
 "nbformat_minor": 5
}
